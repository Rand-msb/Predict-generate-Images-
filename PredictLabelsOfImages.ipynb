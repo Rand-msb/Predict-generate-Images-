{
  "cells": [
    {
      "cell_type": "markdown",
      "metadata": {
        "id": "mVCQ7LMdOzkW"
      },
      "source": [
        "Exercise 1: Train a classifier to predict the output labels of the given images. The training and validation images with their labels are given as numpy arrays (one row per image) in 5 chunks (see below). The test images (no labels) are given in a test.csv file (also with one row per image). The images are of size (32,32,3). \n",
        "\n",
        "- Write a Dataset class and use it for the dataloaders\n",
        "- Build and train an appropriate NN\n",
        "- Plot loss values during training and compute model accuracy"
      ]
    },
    {
      "cell_type": "markdown",
      "metadata": {
        "id": "RvRQjLYpC0Xm"
      },
      "source": [
        "## Data uploading"
      ]
    },
    {
      "cell_type": "code",
      "execution_count": null,
      "metadata": {
        "id": "wy3xxqGq5aHc",
        "colab": {
          "base_uri": "https://localhost:8080/"
        },
        "outputId": "311cdca2-0c5a-47b8-c962-12db0dd01ea5"
      },
      "outputs": [
        {
          "output_type": "stream",
          "name": "stdout",
          "text": [
            "--2023-01-16 10:15:23--  https://www.dropbox.com/s/bcrs90kyytjph42/cifar-10-batches-py.zip?dl=0\n",
            "Resolving www.dropbox.com (www.dropbox.com)... 162.125.5.18, 2620:100:601d:18::a27d:512\n",
            "Connecting to www.dropbox.com (www.dropbox.com)|162.125.5.18|:443... connected.\n",
            "HTTP request sent, awaiting response... 302 Found\n",
            "Location: /s/raw/bcrs90kyytjph42/cifar-10-batches-py.zip [following]\n",
            "--2023-01-16 10:15:24--  https://www.dropbox.com/s/raw/bcrs90kyytjph42/cifar-10-batches-py.zip\n",
            "Reusing existing connection to www.dropbox.com:443.\n",
            "HTTP request sent, awaiting response... 302 Found\n",
            "Location: https://ucb574f68b3f371c30a33b6ca618.dl-eu.dropboxusercontent.com/cd/0/inline/B0ohb-Jd_vG_aa56Re3IG0-teVfvMFoFYxBEBB7_GKPyigcDh-lVMjtqLUTVaXgDmngdTTtwWpp-uw0dRJQRHuRLUTOIgJ77SifshlG7SVBxr3xJsVqa-bamiGOP88pQzNUpCWGlob-qY1U4bC5toTEwhydGy2XE1NM5yIBWfRBPQg/file# [following]\n",
            "--2023-01-16 10:15:24--  https://ucb574f68b3f371c30a33b6ca618.dl-eu.dropboxusercontent.com/cd/0/inline/B0ohb-Jd_vG_aa56Re3IG0-teVfvMFoFYxBEBB7_GKPyigcDh-lVMjtqLUTVaXgDmngdTTtwWpp-uw0dRJQRHuRLUTOIgJ77SifshlG7SVBxr3xJsVqa-bamiGOP88pQzNUpCWGlob-qY1U4bC5toTEwhydGy2XE1NM5yIBWfRBPQg/file\n",
            "Resolving ucb574f68b3f371c30a33b6ca618.dl-eu.dropboxusercontent.com (ucb574f68b3f371c30a33b6ca618.dl-eu.dropboxusercontent.com)... 162.125.5.15, 2620:100:601d:15::a27d:50f\n",
            "Connecting to ucb574f68b3f371c30a33b6ca618.dl-eu.dropboxusercontent.com (ucb574f68b3f371c30a33b6ca618.dl-eu.dropboxusercontent.com)|162.125.5.15|:443... connected.\n",
            "HTTP request sent, awaiting response... 302 Found\n",
            "Location: /cd/0/inline2/B0rOm94duxMYk1aoItAOkwR4vnKQ3wEMZHZwOpRwCGR2PImUnZAZ2nqtIpeTHU0RpSBz5Lx1dzfE9Vq2O1XYgNxJHmGtrceSq3skiv_z0HpT8_vgxkAKhTViW0sMGotXYYHkxd9xRLH2Gws_ak1YBTGf_vgATbgz3_UrEaKdAQVA1WQ2M-W7ejopGpMQNAgD9LrW-xgLvBg6kCA9s9frWS3I6iQp0_o3Fk-lJiT4vB0u5VNDRLLHEPTmdR2-HvHPBhgJQF2EcRQaRzcAKoJV9KkV2pXP6b4PSaeLgWlAOMnfsjjHNsoyXkSsAfGxpFj3iy17xBQG9Ne_zWOilDL-AGw-MBS-AFOZE3laqB8kE-GF1w3HbT0bP7zmd_i6RqyH00tz4cF5s63tLW-Lfi1GOXJgJjrJcEJFiOmB25UIBk7wYw/file [following]\n",
            "--2023-01-16 10:15:25--  https://ucb574f68b3f371c30a33b6ca618.dl-eu.dropboxusercontent.com/cd/0/inline2/B0rOm94duxMYk1aoItAOkwR4vnKQ3wEMZHZwOpRwCGR2PImUnZAZ2nqtIpeTHU0RpSBz5Lx1dzfE9Vq2O1XYgNxJHmGtrceSq3skiv_z0HpT8_vgxkAKhTViW0sMGotXYYHkxd9xRLH2Gws_ak1YBTGf_vgATbgz3_UrEaKdAQVA1WQ2M-W7ejopGpMQNAgD9LrW-xgLvBg6kCA9s9frWS3I6iQp0_o3Fk-lJiT4vB0u5VNDRLLHEPTmdR2-HvHPBhgJQF2EcRQaRzcAKoJV9KkV2pXP6b4PSaeLgWlAOMnfsjjHNsoyXkSsAfGxpFj3iy17xBQG9Ne_zWOilDL-AGw-MBS-AFOZE3laqB8kE-GF1w3HbT0bP7zmd_i6RqyH00tz4cF5s63tLW-Lfi1GOXJgJjrJcEJFiOmB25UIBk7wYw/file\n",
            "Reusing existing connection to ucb574f68b3f371c30a33b6ca618.dl-eu.dropboxusercontent.com:443.\n",
            "HTTP request sent, awaiting response... 200 OK\n",
            "Length: 176410579 (168M) [application/zip]\n",
            "Saving to: ‘data.zip’\n",
            "\n",
            "data.zip            100%[===================>] 168.24M  27.0MB/s    in 7.3s    \n",
            "\n",
            "2023-01-16 10:15:34 (23.2 MB/s) - ‘data.zip’ saved [176410579/176410579]\n",
            "\n",
            "Archive:  data.zip\n",
            "   creating: cifar-10-batches-py/\n",
            "  inflating: __MACOSX/._cifar-10-batches-py  \n",
            "  inflating: cifar-10-batches-py/data_batch_1  \n",
            "  inflating: __MACOSX/cifar-10-batches-py/._data_batch_1  \n",
            "  inflating: cifar-10-batches-py/.DS_Store  \n",
            "  inflating: __MACOSX/cifar-10-batches-py/._.DS_Store  \n",
            "  inflating: cifar-10-batches-py/test.csv  \n",
            "  inflating: __MACOSX/cifar-10-batches-py/._test.csv  \n",
            "  inflating: cifar-10-batches-py/readme.html  \n",
            "  inflating: __MACOSX/cifar-10-batches-py/._readme.html  \n",
            "  inflating: cifar-10-batches-py/batches.meta  \n",
            "  inflating: __MACOSX/cifar-10-batches-py/._batches.meta  \n",
            "  inflating: cifar-10-batches-py/data_batch_2  \n",
            "  inflating: __MACOSX/cifar-10-batches-py/._data_batch_2  \n",
            "  inflating: cifar-10-batches-py/data_batch_5  \n",
            "  inflating: __MACOSX/cifar-10-batches-py/._data_batch_5  \n",
            "  inflating: cifar-10-batches-py/data_batch_4  \n",
            "  inflating: __MACOSX/cifar-10-batches-py/._data_batch_4  \n",
            "  inflating: cifar-10-batches-py/data_batch_3  \n",
            "  inflating: __MACOSX/cifar-10-batches-py/._data_batch_3  \n"
          ]
        }
      ],
      "source": [
        "!wget -O data.zip https://www.dropbox.com/s/bcrs90kyytjph42/cifar-10-batches-py.zip?dl=0\n",
        "!unzip data.zip\n",
        "\n",
        "def unpickle(file):\n",
        "    import pickle\n",
        "    with open(file, 'rb') as fo:\n",
        "        dict_ = pickle.load(fo, encoding='bytes')\n",
        "    return dict_\n",
        "\n",
        "# data is given in 5 chunks, read into numpy arrays\n",
        "dict1=unpickle(\"/content/cifar-10-batches-py/data_batch_1\")\n",
        "dict2=unpickle(\"/content/cifar-10-batches-py/data_batch_2\")\n",
        "dict3=unpickle(\"/content/cifar-10-batches-py/data_batch_3\")\n",
        "dict4=unpickle(\"/content/cifar-10-batches-py/data_batch_4\")\n",
        "dict5=unpickle(\"/content/cifar-10-batches-py/data_batch_5\")\n",
        "\n",
        "images1, labels1 = dict1[b\"data\"] , dict1[b\"labels\"]\n",
        "images2, labels2 = dict2[b\"data\"] , dict2[b\"labels\"]\n",
        "images3, labels3 = dict3[b\"data\"] , dict3[b\"labels\"]\n",
        "images4, labels4 = dict4[b\"data\"] , dict4[b\"labels\"]\n",
        "images5, labels5 = dict5[b\"data\"] , dict5[b\"labels\"]\n",
        "\n"
      ]
    },
    {
      "cell_type": "markdown",
      "metadata": {
        "id": "dn181Vv1C_Kr"
      },
      "source": [
        "## Dataset class and dataloaders\n",
        "##### - Create a dataset class and use it to construct dataloaders for training and validation.\n",
        "##### - Use one chunck of the data for validation and the rest for training. \n",
        "##### - Note: Concatenating numpy arrays can be done via np.concatenate()\n"
      ]
    },
    {
      "cell_type": "code",
      "source": [],
      "metadata": {
        "id": "ahSLfzNNnAia"
      },
      "execution_count": null,
      "outputs": []
    },
    {
      "cell_type": "code",
      "execution_count": null,
      "metadata": {
        "id": "oaPY-ergDGHG"
      },
      "outputs": [],
      "source": [
        "import pandas as pd\n",
        "import numpy as np\n",
        "from torch.utils.data import Dataset\n",
        "\n",
        "\n",
        "\n",
        "\n",
        "\n",
        "class MyData(Dataset):\n",
        "  def __init__(self,imagesfile, labelsfile, transform=None):\n",
        "    super().__init__()\n",
        "    df_x = imagesfile\n",
        "    df_y = labelsfile\n",
        "    self.X = df_x.astype(np.float32).reshape(-1,3, 32,32)/255.0\n",
        "    self.Y = df_y\n",
        "    self.transform = transform\n",
        "\n",
        "  def __len__(self):\n",
        "    return len(self.Y)\n",
        "\n",
        "  def __getitem__(self, idx):\n",
        "    image = self.X[idx]\n",
        "    image = torch.tensor(image) \n",
        "    \n",
        "    if self.transform:\n",
        "      image = self.transform(image)\n",
        "    label = torch.tensor(self.Y[idx])\n",
        "    return image, label"
      ]
    },
    {
      "cell_type": "code",
      "source": [
        "imagesfile= np.concatenate((images1,images2,images3,images4), axis=0)\n",
        "labelsfile= np.concatenate((labels1,labels2,labels3,labels4) , axis=0)\n",
        "trainset = MyData(imagesfile,labelsfile)\n",
        "imagesfile= images5\n",
        "labelsfile= labels5\n",
        "testset = MyData(imagesfile,labelsfile)\n"
      ],
      "metadata": {
        "id": "3vcFbRb0lCRX"
      },
      "execution_count": null,
      "outputs": []
    },
    {
      "cell_type": "code",
      "source": [
        "len(trainset)"
      ],
      "metadata": {
        "colab": {
          "base_uri": "https://localhost:8080/"
        },
        "id": "oMpb0je9lvVp",
        "outputId": "a1c64d8e-1f00-43c2-dda9-8dc571b0ed2b"
      },
      "execution_count": null,
      "outputs": [
        {
          "output_type": "execute_result",
          "data": {
            "text/plain": [
              "40000"
            ]
          },
          "metadata": {},
          "execution_count": 5
        }
      ]
    },
    {
      "cell_type": "code",
      "source": [
        "import matplotlib.pyplot as plt\n",
        "import torch\n",
        "\n",
        "import torchvision\n",
        "batch_size = 16\n",
        "trainloader = torch.utils.data.DataLoader(dataset=trainset,\n",
        "                         batch_size=batch_size, shuffle=True)\n",
        "testloader = torch.utils.data.DataLoader(dataset=testset, batch_size=batch_size,\n",
        "                                         shuffle=False)\n",
        "# dataiter = iter(trainloader)\n",
        "# images, labels = next(dataiter)\n",
        "\n"
      ],
      "metadata": {
        "id": "rhn0RhJ2nBnb"
      },
      "execution_count": null,
      "outputs": []
    },
    {
      "cell_type": "markdown",
      "metadata": {
        "id": "_nR19jrbDQj-"
      },
      "source": [
        "## Visualize the data\n",
        "##### Show a few samples of the training dataset\n"
      ]
    },
    {
      "cell_type": "code",
      "execution_count": null,
      "metadata": {
        "id": "fHTVFDkDDXe2"
      },
      "outputs": [],
      "source": [
        "import matplotlib.pyplot as plt\n",
        "import torch\n",
        "\n",
        "import torchvision\n",
        "\n",
        "\n",
        "\n",
        "\n",
        "\n",
        "# functions to show an image\n",
        "def imshow(img):\n",
        "    print(images.shape)\n",
        "    # img = img / 2 + 0.5     # unnormalize\n",
        "    npimg = img.numpy()\n",
        "    plt.imshow(np.transpose(npimg, (1, 2, 0)))\n",
        "    plt.show()\n",
        "\n",
        "# get some random training images\n",
        "dataiter = iter(trainloader)\n",
        "images, labels = next(dataiter)\n",
        "\n",
        "# show images\n",
        "imshow(torchvision.utils.make_grid(images))\n",
        "# print labels\n",
        "#print(' '.join(f'{classes[labels[j]]:5s}' for j in range(batch_size)))"
      ]
    },
    {
      "cell_type": "markdown",
      "metadata": {
        "id": "Vvpy9GmEDHEV"
      },
      "source": [
        "## Network definition"
      ]
    },
    {
      "cell_type": "code",
      "execution_count": null,
      "metadata": {
        "id": "mgJmX72GDJZd"
      },
      "outputs": [],
      "source": [
        "import torch.nn as nn\n",
        "import torch.nn.functional as F\n",
        "\n",
        "class Net(nn.Module):\n",
        "    def __init__(self):\n",
        "        super(Net, self).__init__()\n",
        "        self.conv1 = nn.Conv2d(3, 6, 5)\n",
        "        self.pool = nn.MaxPool2d(2, 2)\n",
        "        self.bn1= nn.BatchNorm2d(6)\n",
        "        self.conv2 = nn.Conv2d(6, 16, 5)\n",
        "        self.bn2= nn.BatchNorm2d(16)\n",
        "        self.fc1 = nn.Linear(16 * 5 * 5, 120)\n",
        "        self.fc2 = nn.Linear(120, 84)\n",
        "        self.fc3 = nn.Linear(84, 10)\n",
        "\n",
        "    def forward(self, x):\n",
        "        x = self.pool(F.relu(self.bn1(self.conv1(x))))\n",
        "        x = self.pool(F.relu(self.bn2(self.conv2(x))))\n",
        "        x = x.view(-1, 16 * 5 * 5)\n",
        "        x = F.relu(self.fc1(x))\n",
        "        x = F.relu(self.fc2(x))\n",
        "        x = self.fc3(x)\n",
        "        return x\n"
      ]
    },
    {
      "cell_type": "code",
      "source": [
        "from torchsummary import summary\n",
        "device = \"cuda\" if torch.cuda.is_available() else \"cpu\"\n",
        "net = Net().to(device)\n",
        "# net.to(device)\n",
        "summary(net, (3, 32,32))\n"
      ],
      "metadata": {
        "colab": {
          "base_uri": "https://localhost:8080/"
        },
        "id": "iyEsdZ1n89YY",
        "outputId": "70400108-bf73-48dd-b8b9-5f068be220e0"
      },
      "execution_count": null,
      "outputs": [
        {
          "output_type": "stream",
          "name": "stdout",
          "text": [
            "----------------------------------------------------------------\n",
            "        Layer (type)               Output Shape         Param #\n",
            "================================================================\n",
            "            Conv2d-1            [-1, 6, 28, 28]             456\n",
            "       BatchNorm2d-2            [-1, 6, 28, 28]              12\n",
            "         MaxPool2d-3            [-1, 6, 14, 14]               0\n",
            "            Conv2d-4           [-1, 16, 10, 10]           2,416\n",
            "       BatchNorm2d-5           [-1, 16, 10, 10]              32\n",
            "         MaxPool2d-6             [-1, 16, 5, 5]               0\n",
            "            Linear-7                  [-1, 120]          48,120\n",
            "            Linear-8                   [-1, 84]          10,164\n",
            "            Linear-9                   [-1, 10]             850\n",
            "================================================================\n",
            "Total params: 62,050\n",
            "Trainable params: 62,050\n",
            "Non-trainable params: 0\n",
            "----------------------------------------------------------------\n",
            "Input size (MB): 0.01\n",
            "Forward/backward pass size (MB): 0.11\n",
            "Params size (MB): 0.24\n",
            "Estimated Total Size (MB): 0.36\n",
            "----------------------------------------------------------------\n"
          ]
        }
      ]
    },
    {
      "cell_type": "markdown",
      "metadata": {
        "id": "nae-qh2GDbTT"
      },
      "source": [
        "## Training\n",
        "##### Plot loss values during training"
      ]
    },
    {
      "cell_type": "code",
      "execution_count": null,
      "metadata": {
        "id": "gRClZhKYDg07"
      },
      "outputs": [],
      "source": [
        "import torch.optim as optim\n",
        "\n",
        "criterion = nn.CrossEntropyLoss()\n",
        "optimizer = optim.SGD(net.parameters(), lr=0.001, momentum=0.9)"
      ]
    },
    {
      "cell_type": "code",
      "source": [
        "ls = []\n",
        "for epoch in range(30):  # loop over the dataset multiple times\n",
        "    net.train()\n",
        "    running_loss = 0.0\n",
        "    for i, data in enumerate(trainloader, 0):\n",
        "        # get the inputs; data is a list of [inputs, labels]\n",
        "        inputs, labels = data\n",
        "\n",
        "        # zero the parameter gradients\n",
        "        optimizer.zero_grad()\n",
        "\n",
        "        # forward + backward + optimize\n",
        "        device = \"cuda\" if torch.cuda.is_available() else \"cpu\"\n",
        "        outputs = net(inputs)\n",
        "        loss = criterion(outputs, labels)\n",
        "        loss.backward()\n",
        "        optimizer.step()\n",
        "\n",
        "        # print statistics\n",
        "        running_loss += loss.item()\n",
        "        ls.append(running_loss)\n",
        "        if i % 2000 == 1999:    # print every 2000 mini-batches\n",
        "            print(f'[{epoch + 1}, {i + 1:5d}] loss: {running_loss / 2000:.3f}')\n",
        "            running_loss = 0.0\n",
        "\n",
        "print('Finished Training')\n",
        "#the plot \n"
      ],
      "metadata": {
        "colab": {
          "base_uri": "https://localhost:8080/"
        },
        "id": "d5I91xOi__gX",
        "outputId": "c025f878-1d69-4671-f11e-f1df78c8547c"
      },
      "execution_count": null,
      "outputs": [
        {
          "output_type": "stream",
          "name": "stdout",
          "text": [
            "[1,  2000] loss: 0.400\n",
            "[2,  2000] loss: 0.390\n",
            "[3,  2000] loss: 0.380\n",
            "[4,  2000] loss: 0.369\n",
            "[5,  2000] loss: 0.358\n",
            "[6,  2000] loss: 0.352\n",
            "[7,  2000] loss: 0.341\n",
            "[8,  2000] loss: 0.332\n",
            "[9,  2000] loss: 0.319\n",
            "[10,  2000] loss: 0.321\n",
            "[11,  2000] loss: 0.305\n",
            "[12,  2000] loss: 0.296\n",
            "[13,  2000] loss: 0.288\n",
            "[14,  2000] loss: 0.288\n",
            "[15,  2000] loss: 0.278\n",
            "[16,  2000] loss: 0.270\n",
            "[17,  2000] loss: 0.268\n",
            "[18,  2000] loss: 0.255\n",
            "[19,  2000] loss: 0.262\n",
            "[20,  2000] loss: 0.247\n",
            "[21,  2000] loss: 0.249\n",
            "[22,  2000] loss: 0.239\n",
            "[23,  2000] loss: 0.232\n",
            "[24,  2000] loss: 0.232\n",
            "[25,  2000] loss: 0.221\n",
            "[26,  2000] loss: 0.215\n",
            "[27,  2000] loss: 0.208\n",
            "[28,  2000] loss: 0.213\n",
            "[29,  2000] loss: 0.208\n",
            "[30,  2000] loss: 0.198\n",
            "Finished Training\n"
          ]
        }
      ]
    },
    {
      "cell_type": "code",
      "source": [
        "from matplotlib.pylab import plt\n",
        "plt.plot(ls, label='Training Loss')\n"
      ],
      "metadata": {
        "colab": {
          "base_uri": "https://localhost:8080/",
          "height": 283
        },
        "id": "CwtDItaWXqAm",
        "outputId": "dd6e5f52-f9fc-4bfd-896a-efa2eb97c0ed"
      },
      "execution_count": null,
      "outputs": [
        {
          "output_type": "execute_result",
          "data": {
            "text/plain": [
              "[<matplotlib.lines.Line2D at 0x7f61b4e89d30>]"
            ]
          },
          "metadata": {},
          "execution_count": 53
        },
        {
          "output_type": "display_data",
          "data": {
            "text/plain": [
              "<Figure size 432x288 with 1 Axes>"
            ],
            "image/png": "[encoded data removed]"
          },
          "metadata": {
            "needs_background": "light"
          }
        }
      ]
    },
    {
      "cell_type": "markdown",
      "source": [],
      "metadata": {
        "id": "038xJbQBDVzl"
      }
    },
    {
      "cell_type": "markdown",
      "metadata": {
        "id": "JX9_UGZ-DhAZ"
      },
      "source": [
        "## Validation\n",
        "##### Compute model accuracy\n"
      ]
    },
    {
      "cell_type": "code",
      "execution_count": null,
      "metadata": {
        "id": "zM0y5K3SDiI-",
        "colab": {
          "base_uri": "https://localhost:8080/"
        },
        "outputId": "2f349f8f-df87-4f40-bca2-56e96e387756"
      },
      "outputs": [
        {
          "output_type": "stream",
          "name": "stdout",
          "text": [
            "Accuracy of the network on the 10000 test images: 65 %\n"
          ]
        }
      ],
      "source": [
        "correct = 0\n",
        "total = 0\n",
        "# since we're not training, no need to calculate gradients\n",
        "with torch.no_grad():\n",
        "    for data in testloader:\n",
        "        net.eval()\n",
        "        images, labels = data\n",
        "        # run images through the network\n",
        "        outputs = net(images)\n",
        "        # the class with highest val is the prediction\n",
        "        predicted = torch.argmax(outputs.data, 1)\n",
        "        total += labels.size(0)\n",
        "        correct += (predicted == labels).sum().item()\n",
        "\n",
        "print(f'Accuracy of the network on the 10000 test images: {100 * correct // total} %')"
      ]
    },
    {
      "cell_type": "markdown",
      "metadata": {
        "id": "eLZWtE5JDjMk"
      },
      "source": [
        "## Testing\n",
        "##### Read the test.csv file into a numpy array, and then generate predictions\n",
        "##### Save the predictions to a file that you will email with your code"
      ]
    },
    {
      "cell_type": "code",
      "execution_count": null,
      "metadata": {
        "id": "1GtdvzvzDkhZ"
      },
      "outputs": [],
      "source": [
        "import pandas as pd\n",
        "\n",
        "class MyTestData(Dataset):\n",
        "  def __init__(self):\n",
        "    super().__init__()\n",
        "    df_x = pd.read_csv(\"/content/cifar-10-batches-py/test.csv\" , header=None)\n",
        "    \n",
        "    self.X = df_x.to_numpy().astype(np.float32).reshape(-1,3, 32,32)/255.0\n",
        "    \n",
        "\n",
        "  def __len__(self):\n",
        "    return len(self.X)\n",
        "\n",
        "  def __getitem__(self, idx):\n",
        "    image = self.X[idx]\n",
        "    image = torch.tensor(image) \n",
        "    \n",
        "    # if self.transform:\n",
        "    #   image = self.transform(image)\n",
        "    # label = torch.tensor(self.Y[idx])\n",
        "    return image\n",
        "\n",
        "\n"
      ]
    },
    {
      "cell_type": "code",
      "source": [
        "X=MyTestData()\n",
        "testloader = torch.utils.data.DataLoader(dataset=X, batch_size=batch_size,\n",
        "                                         shuffle=False)\n",
        "\n",
        "correct = 0\n",
        "total = 0\n",
        "prediction =[]\n",
        "# since we're not training, no need to calculate gradients\n",
        "with torch.no_grad():\n",
        "    for data in testloader:\n",
        "        images = data\n",
        "        # run images through the network\n",
        "        outputs = net(images)\n",
        "        # the class with highest val is the prediction\n",
        "        predicted = torch.argmax(outputs.data, 1)\n",
        "\n",
        "        prediction.append(predicted.numpy())\n",
        "        total += labels.size(0)\n",
        "        correct += (predicted == labels).sum().item()\n",
        "\n",
        "print(f'Accuracy of the network on the 10000 test images: {100 * correct // total} %')\n",
        "print(prediction) \n",
        "df = pd.DataFrame(prediction) #convert to a dataframe\n",
        "df.to_csv(\"../content/sample_data/testfile.csv\",index=False) #save to file"
      ],
      "metadata": {
        "colab": {
          "base_uri": "https://localhost:8080/"
        },
        "id": "pwbU8VKINmIh",
        "outputId": "fe3d22f7-f83a-49bc-d079-97f9b8f81563"
      },
      "execution_count": null,
      "outputs": [
        {
          "output_type": "stream",
          "name": "stdout",
          "text": [
            "Accuracy of the network on the 10000 test images: 10 %\n",
            "[array([3, 1, 2, 5, 5, 8, 1, 7, 0, 3, 0, 7, 6, 8, 6, 1]), array([0, 6, 9, 8, 0, 0, 8, 7, 1, 5, 7, 2, 9, 9, 1, 2]), array([9, 5, 2, 8, 7, 7, 8, 7, 2, 2, 0, 2, 4, 7, 6, 8]), array([2, 2, 5, 7, 8, 1, 4, 7, 5, 1, 5, 1, 4, 1, 4, 5]), array([5, 6, 3, 0, 4, 8, 6, 0, 6, 3, 3, 3, 5, 2, 1, 1]), array([6, 8, 1, 2, 9, 2, 7, 4, 0, 0, 6, 2, 9, 7, 3, 0]), array([3, 8, 6, 2, 8, 3, 3, 3, 8, 9, 2, 7, 4, 3, 1, 9]), array([3, 2, 5, 4, 8, 2, 8, 4, 1, 6, 7, 0, 3, 0, 5, 1]), array([4, 7, 3, 7, 2, 2, 6, 1, 8, 1, 5, 2, 8, 7, 9, 6]), array([9, 4, 9, 3, 0, 1, 3, 3, 4, 8, 4, 0, 7, 6, 2, 1]), array([4, 5, 0, 4, 5, 7, 1, 4, 4, 2, 3, 6, 2, 0, 5, 2]), array([1, 4, 7, 2, 8, 2, 0, 9, 0, 0, 9, 2, 0, 8, 9, 0]), array([3, 2, 2, 6, 5, 2, 7, 9, 1, 9, 6, 8, 2, 8, 3, 1]), array([3, 8, 1, 6, 7, 2, 8, 2, 8, 3, 8, 5, 8, 4, 4, 2]), array([3, 2, 6, 2, 4, 9, 3, 3, 8, 5, 8, 2, 1, 4, 5, 9]), array([1, 7, 6, 6, 6, 1, 6, 7, 3, 5, 2, 0, 6, 6, 8, 8]), array([3, 4, 9, 2, 5, 5, 3, 1, 3, 8, 4, 9, 2, 7, 8, 3]), array([3, 6, 3, 5, 8, 7, 8, 7, 3, 3, 2, 3, 7, 6, 7, 6]), array([7, 8, 8, 1, 0, 1, 6, 7, 1, 3, 4, 0, 6, 3, 5, 3]), array([6, 6, 7, 1, 3, 5, 9, 1, 0, 2, 9, 7, 8, 6, 2, 8]), array([6, 6, 9, 3, 1, 2, 3, 9, 5, 0, 7, 1, 8, 8, 1, 7]), array([6, 0, 0, 2, 0, 0, 9, 9, 6, 9, 7, 0, 8, 3, 4, 9]), array([6, 8, 3, 8, 5, 2, 2, 5, 5, 9, 9, 5, 9, 0, 8, 7]), array([0, 3, 4, 3, 9, 3, 8, 1, 3, 9, 1, 4, 8, 9, 2, 9]), array([8, 8, 0, 8, 9, 1, 5, 6, 3, 0, 2, 7, 7, 0, 8, 3]), array([5, 9, 5, 9, 9, 3, 0, 9, 9, 7, 8, 2, 2, 6, 3, 3]), array([2, 3, 0, 3, 6, 9, 8, 2, 3, 9, 2, 4, 8, 2, 0, 7]), array([8, 2, 7, 1, 2, 0, 1, 6, 8, 9, 1, 2, 0, 5, 9, 9]), array([2, 1, 1, 8, 4, 3, 6, 1, 9, 4, 0, 0, 7, 4, 7, 9]), array([8, 5, 6, 0, 5, 3, 6, 9, 7, 2, 9, 0, 4, 1, 8, 2]), array([8, 2, 1, 5, 0, 5, 4, 4, 8, 9, 3, 1, 6, 7, 5, 1]), array([7, 9, 7, 7, 1, 7, 1, 5, 5, 3, 9, 7, 3, 0, 1, 9]), array([3, 1, 9, 6, 5, 1, 7, 5, 9, 6, 0, 8, 2, 2, 2, 5]), array([5, 4, 0, 7, 7, 5, 5, 0, 0, 1, 2, 1, 3, 9, 1, 7]), array([7, 1, 4, 2, 5, 0, 5, 0, 7, 5, 4, 0, 8, 8, 5, 1]), array([0, 0, 3, 6, 5, 3, 8, 9, 2, 5, 2, 6, 7, 0, 1, 2]), array([9, 9, 5, 9, 9, 7, 4, 6, 9, 2, 5, 4, 4, 3, 3, 8]), array([3, 5, 0, 7, 5, 6, 0, 4, 8, 4, 3, 2, 9, 3, 2, 3]), array([6, 5, 0, 1, 4, 1, 1, 6, 3, 0, 3, 5, 7, 5, 9, 5]), array([8, 7, 1, 6, 5, 7, 8, 3, 3, 3, 5, 8, 8, 8, 2, 8]), array([3, 1, 1, 9, 8, 4, 0, 6, 8, 9, 5, 2, 5, 7, 3, 5]), array([4, 4, 7, 5, 8, 3, 0, 6, 6, 7, 3, 9, 2, 8, 1, 7]), array([0, 7, 2, 8, 2, 2, 9, 1, 3, 4, 9, 7, 0, 6, 6, 8]), array([7, 3, 3, 1, 9, 4, 0, 6, 2, 2, 5, 7, 5, 1, 9, 1]), array([1, 7, 9, 6, 6, 2, 3, 6, 1, 6, 7, 6, 8, 3, 1, 2]), array([7, 3, 3, 8, 7, 5, 0, 1, 6, 2, 8, 2, 2, 6, 0, 2]), array([6, 9, 5, 9, 4, 5, 7, 6, 6, 5, 0, 5, 0, 3, 0, 1]), array([5, 9, 2, 8, 8, 1, 2, 4, 5, 7, 4, 9, 0, 6, 6, 7]), array([6, 0, 6, 1, 5, 6, 2, 9, 2, 8, 8, 3, 5, 8, 4, 2]), array([9, 5, 5, 5, 6, 2, 0, 9, 7, 9, 0, 2, 5, 9, 0, 9]), array([1, 5, 7, 6, 8, 2, 0, 2, 9, 4, 5, 7, 9, 9, 8, 0]), array([1, 7, 3, 8, 3, 8, 9, 7, 3, 5, 6, 1, 9, 9, 8, 8]), array([8, 2, 4, 3, 7, 1, 6, 7, 5, 0, 8, 0, 7, 2, 9, 0]), array([2, 2, 6, 5, 7, 5, 9, 2, 2, 1, 6, 7, 1, 2, 8, 6]), array([5, 6, 8, 6, 9, 2, 0, 1, 3, 6, 3, 7, 6, 6, 0, 2]), array([8, 9, 8, 3, 0, 1, 0, 9, 0, 7, 3, 2, 7, 2, 7, 9]), array([1, 2, 1, 7, 8, 3, 9, 0, 8, 4, 5, 4, 3, 6, 2, 3]), array([0, 1, 8, 8, 1, 8, 2, 6, 5, 1, 7, 7, 4, 4, 9, 0]), array([0, 1, 8, 6, 5, 1, 6, 3, 9, 5, 2, 5, 2, 0, 3, 1]), array([0, 6, 0, 5, 2, 8, 2, 5, 4, 1, 9, 3, 6, 1, 2, 8]), array([2, 0, 2, 7, 1, 3, 7, 5, 1, 8, 1, 7, 5, 5, 6, 2]), array([5, 4, 2, 9, 9, 8, 5, 1, 0, 5, 9, 4, 2, 4, 9, 0]), array([9, 4, 2, 7, 6, 1, 8, 0, 9, 1, 4, 5, 4, 9, 5, 9]), array([7, 4, 0, 5, 7, 5, 5, 5, 0, 8, 2, 3, 5, 7, 8, 8]), array([5, 2, 3, 4, 7, 9, 5, 8, 8, 3, 1, 6, 3, 8, 3, 1]), array([1, 4, 1, 9, 6, 6, 7, 3, 5, 2, 3, 0, 4, 5, 8, 9]), array([9, 2, 1, 0, 8, 7, 5, 3, 6, 5, 4, 0, 6, 4, 6, 1]), array([3, 5, 7, 4, 5, 2, 0, 0, 7, 3, 0, 7, 3, 2, 7, 9]), array([5, 4, 0, 8, 4, 9, 9, 1, 5, 7, 6, 1, 2, 5, 0, 9]), array([4, 6, 3, 1, 0, 8, 0, 9, 2, 5, 9, 5, 7, 7, 2, 7]), array([1, 5, 5, 0, 7, 2, 0, 2, 4, 1, 5, 8, 5, 0, 2, 2]), array([9, 8, 9, 3, 3, 6, 3, 2, 2, 2, 8, 3, 4, 0, 6, 9]), array([3, 2, 2, 7, 8, 4, 9, 9, 5, 9, 2, 9, 0, 3, 7, 1]), array([5, 7, 5, 7, 9, 0, 5, 9, 5, 0, 1, 9, 5, 8, 8, 3]), array([3, 0, 2, 3, 8, 0, 8, 2, 1, 9, 8, 2, 6, 4, 1, 5]), array([4, 5, 7, 5, 2, 3, 5, 8, 2, 4, 2, 2, 8, 0, 8, 2]), array([6, 6, 4, 8, 4, 8, 3, 3, 6, 4, 0, 5, 8, 5, 5, 1]), array([3, 4, 0, 1, 4, 2, 6, 8, 5, 9, 1, 2, 3, 0, 3, 5]), array([8, 4, 7, 4, 1, 0, 8, 0, 2, 3, 8, 9, 9, 2, 1, 7]), array([3, 0, 1, 9, 9, 1, 2, 0, 6, 0, 2, 2, 1, 1, 5, 5]), array([9, 5, 7, 3, 6, 1, 2, 3, 8, 3, 9, 0, 0, 8, 1, 4]), array([3, 8, 0, 5, 7, 1, 3, 5, 6, 7, 0, 5, 1, 5, 2, 1]), array([1, 4, 1, 1, 5, 2, 5, 8, 7, 3, 3, 8, 7, 2, 8, 2]), array([0, 2, 5, 5, 7, 6, 9, 3, 5, 8, 9, 7, 8, 7, 2, 2]), array([2, 1, 2, 4, 0, 6, 5, 5, 7, 4, 5, 1, 9, 2, 0, 7]), array([5, 3, 1, 0, 1, 5, 0, 1, 7, 3, 4, 4, 2, 2, 4, 6]), array([4, 2, 9, 5, 8, 5, 9, 9, 0, 1, 7, 4, 3, 6, 3, 2]), array([7, 8, 2, 1, 3, 5, 1, 8, 7, 9, 4, 4, 4, 7, 5, 7]), array([7, 9, 7, 6, 2, 0, 2, 7, 5, 3, 7, 7, 8, 8, 0, 8]), array([3, 3, 5, 6, 8, 9, 4, 2, 4, 4, 1, 3, 6, 2, 6, 3]), array([9, 2, 5, 8, 1, 6, 7, 1, 9, 9, 3, 7, 1, 0, 5, 0]), array([4, 8, 9, 4, 9, 5, 7, 2, 2, 8, 5, 6, 8, 5, 5, 8]), array([0, 1, 6, 6, 9, 9, 6, 4, 0, 8, 5, 5, 9, 9, 5, 8]), array([4, 6, 1, 3, 1, 5, 0, 6, 1, 4, 0, 3, 4, 7, 4, 9]), array([5, 8, 0, 9, 3, 7, 8, 1, 7, 4, 4, 7, 8, 9, 5, 3]), array([8, 3, 6, 7, 5, 7, 8, 0, 9, 1, 1, 4, 7, 8, 8, 3]), array([6, 7, 1, 6, 2, 6, 4, 1, 7, 1, 5, 3, 3, 3, 6, 0]), array([4, 6, 9, 5, 3, 9, 5, 8, 8, 5, 9, 9, 9, 2, 2, 8]), array([8, 2, 5, 8, 9, 4, 3, 1, 5, 2, 6, 5, 6, 9, 5, 6]), array([8, 1, 1, 8, 7, 0, 7, 0, 2, 7, 2, 6, 0, 6, 2, 3]), array([9, 6, 2, 3, 6, 9, 5, 3, 7, 5, 3, 0, 5, 3, 6, 7]), array([7, 1, 0, 1, 8, 1, 6, 7, 3, 3, 8, 2, 8, 8, 5, 5]), array([2, 8, 8, 0, 8, 9, 1, 5, 7, 2, 5, 9, 8, 5, 7, 1]), array([3, 3, 6, 5, 5, 0, 9, 7, 4, 2, 8, 5, 0, 1, 2, 6]), array([0, 9, 1, 1, 8, 5, 8, 8, 7, 0, 2, 2, 3, 1, 8, 6]), array([3, 2, 7, 2, 6, 9, 3, 5, 8, 7, 3, 5, 1, 6, 8, 6]), array([7, 5, 9, 1, 1, 4, 8, 5, 6, 5, 5, 8, 5, 6, 0, 9]), array([3, 3, 8, 1, 5, 7, 3, 7, 0, 2, 8, 1, 5, 6, 3, 2]), array([1, 0, 8, 5, 8, 7, 2, 2, 9, 3, 6, 4, 1, 7, 3, 1]), array([1, 0, 9, 1, 9, 4, 8, 0, 4, 8, 0, 3, 4, 6, 6, 7]), array([4, 1, 0, 6, 4, 9, 4, 8, 0, 9, 8, 9, 1, 5, 4, 0]), array([3, 5, 2, 9, 3, 1, 1, 0, 1, 6, 5, 4, 0, 3, 5, 8]), array([4, 7, 4, 8, 9, 2, 1, 8, 9, 7, 9, 1, 1, 8, 9, 2]), array([8, 1, 3, 9, 8, 2, 8, 1, 6, 3, 3, 1, 2, 9, 7, 1]), array([2, 0, 2, 7, 1, 3, 0, 1, 3, 0, 9, 8, 7, 9, 6, 5]), array([8, 5, 7, 6, 0, 8, 2, 0, 1, 1, 1, 2, 7, 9, 2, 3]), array([9, 4, 0, 0, 4, 5, 8, 7, 1, 5, 5, 3, 3, 6, 1, 3]), array([3, 7, 2, 9, 8, 7, 0, 3, 2, 2, 8, 5, 1, 2, 6, 9]), array([7, 8, 3, 4, 4, 7, 3, 6, 3, 3, 9, 1, 0, 9, 8, 4]), array([9, 3, 6, 5, 7, 8, 8, 6, 3, 6, 7, 8, 2, 3, 9, 1]), array([4, 2, 3, 4, 9, 7, 0, 7, 8, 8, 6, 5, 6, 8, 9, 6]), array([6, 2, 3, 8, 9, 8, 9, 5, 2, 0, 6, 8, 8, 7, 4, 9]), array([2, 6, 0, 2, 7, 2, 8, 0, 1, 4, 8, 5, 9, 2, 6, 4]), array([2, 2, 4, 5, 2, 8, 9, 4, 1, 5, 7, 3, 9, 7, 5, 0]), array([3, 3, 8, 8, 2, 0, 1, 2, 2, 8, 8, 3, 8, 1, 6, 7]), array([8, 2, 0, 8, 5, 8, 5, 8, 2, 3, 2, 1, 3, 9, 3, 0]), array([8, 4, 9, 2, 0, 8, 3, 2, 1, 5, 7, 9, 3, 3, 1, 9]), array([8, 0, 8, 6, 5, 1, 4, 7, 6, 1, 2, 8, 5, 9, 1, 5]), array([8, 1, 6, 8, 3, 5, 3, 9, 0, 4, 7, 2, 5, 8, 2, 1]), array([1, 8, 7, 7, 1, 2, 4, 4, 2, 5, 7, 9, 9, 7, 2, 6]), array([0, 6, 2, 0, 8, 7, 0, 7, 7, 5, 2, 8, 1, 1, 8, 4]), array([6, 8, 2, 7, 5, 0, 0, 4, 8, 7, 6, 6, 0, 7, 1, 3]), array([0, 9, 3, 1, 4, 2, 3, 1, 1, 1, 5, 3, 7, 1, 6, 2]), array([7, 4, 9, 8, 2, 7, 2, 5, 4, 0, 2, 9, 7, 5, 1, 1]), array([2, 2, 9, 6, 8, 7, 2, 6, 3, 9, 0, 0, 0, 1, 9, 3]), array([4, 8, 1, 4, 5, 2, 3, 9, 7, 1, 6, 9, 2, 0, 9, 4]), array([2, 3, 0, 7, 1, 7, 5, 5, 1, 1, 4, 3, 9, 0, 0, 4]), array([8, 7, 8, 5, 3, 9, 8, 7, 2, 5, 9, 0, 3, 7, 0, 0]), array([6, 5, 8, 3, 9, 8, 2, 8, 9, 3, 0, 6, 0, 4, 5, 4]), array([1, 2, 3, 6, 8, 6, 7, 2, 8, 8, 1, 2, 1, 7, 7, 3]), array([9, 0, 7, 4, 8, 5, 3, 1, 7, 8, 7, 2, 8, 0, 4, 2]), array([8, 6, 4, 9, 8, 5, 0, 5, 7, 2, 4, 6, 5, 9, 8, 8]), array([2, 5, 5, 3, 2, 5, 4, 2, 4, 5, 8, 1, 1, 9, 0, 0]), array([6, 1, 1, 9, 9, 0, 1, 2, 8, 0, 8, 3, 8, 5, 2, 0]), array([7, 2, 0, 7, 3, 1, 2, 9, 5, 0, 6, 7, 1, 8, 2, 3]), array([2, 0, 5, 2, 9, 1, 8, 7, 8, 7, 4, 8, 1, 9, 5, 5]), array([3, 3, 7, 1, 9, 3, 2, 0, 4, 2, 6, 9, 9, 3, 3, 0]), array([5, 4, 3, 4, 2, 8, 1, 1, 0, 5, 8, 2, 2, 2, 7, 3]), array([5, 1, 0, 5, 1, 0, 4, 6, 2, 0, 2, 3, 3, 7, 2, 2]), array([5, 5, 9, 3, 7, 2, 6, 3, 4, 7, 6, 7, 9, 7, 0, 9]), array([7, 3, 5, 1, 3, 8, 7, 4, 0, 3, 0, 0, 6, 1, 8, 2]), array([2, 5, 7, 5, 8, 9, 3, 5, 1, 2, 7, 0, 3, 3, 6, 1]), array([3, 1, 9, 8, 1, 6, 2, 8, 9, 0, 9, 4, 5, 4, 9, 8]), array([3, 4, 7, 1, 0, 1, 8, 8, 2, 4, 6, 1, 5, 3, 3, 1]), array([1, 6, 8, 3, 0, 9, 7, 7, 9, 0, 1, 8, 4, 0, 2, 5]), array([3, 8, 3, 4, 1, 2, 3, 3, 4, 9, 5, 5, 7, 7, 2, 0]), array([6, 3, 3, 8, 9, 2, 2, 2, 1, 5, 1, 5, 8, 6, 4, 2]), array([6, 2, 9, 4, 2, 7, 1, 5, 1, 5, 2, 0, 8, 7, 7, 3]), array([1, 4, 8, 8, 7, 1, 4, 5, 1, 4, 0, 3, 6, 7, 3, 3]), array([3, 5, 9, 2, 1, 4, 2, 9, 7, 2, 8, 2, 3, 2, 3, 0]), array([0, 8, 3, 1, 5, 4, 9, 5, 5, 7, 8, 0, 4, 2, 0, 9]), array([2, 2, 2, 4, 6, 8, 6, 6, 8, 2, 5, 5, 8, 9, 4, 4]), array([6, 5, 9, 4, 3, 8, 5, 3, 1, 3, 7, 7, 0, 6, 2, 7]), array([2, 7, 7, 0, 3, 9, 4, 7, 2, 1, 9, 2, 1, 9, 1, 2]), array([3, 9, 5, 0, 1, 8, 3, 5, 4, 4, 6, 4, 7, 7, 8, 9]), array([4, 8, 3, 8, 5, 6, 0, 3, 5, 9, 8, 0, 5, 9, 2, 5]), array([1, 3, 9, 8, 3, 1, 4, 2, 1, 5, 3, 3, 3, 8, 7, 6]), array([7, 3, 9, 0, 9, 1, 0, 2, 3, 8, 3, 6, 6, 7, 4, 3]), array([6, 5, 8, 3, 5, 5, 1, 0, 4, 5, 7, 1, 1, 5, 3, 5]), array([7, 4, 0, 2, 3, 8, 8, 5, 6, 6, 1, 8, 0, 5, 1, 8]), array([2, 5, 6, 4, 6, 5, 5, 9, 6, 3, 6, 9, 9, 2, 5, 7]), array([5, 5, 2, 0, 8, 9, 1, 5, 5, 1, 1, 8, 2, 3, 4, 9]), array([1, 0, 9, 2, 2, 8, 0, 2, 2, 5, 2, 6, 5, 4, 9, 7]), array([8, 8, 0, 9, 6, 9, 1, 2, 1, 5, 1, 8, 2, 6, 7, 7]), array([1, 5, 0, 0, 2, 3, 9, 5, 9, 5, 9, 9, 7, 0, 0, 3]), array([8, 9, 2, 7, 6, 8, 0, 6, 1, 5, 1, 3, 3, 9, 8, 7]), array([4, 4, 6, 5, 5, 2, 3, 6, 7, 1, 8, 7, 2, 1, 7, 1]), array([8, 9, 6, 9, 6, 2, 9, 5, 7, 1, 4, 3, 9, 2, 2, 9]), array([2, 9, 3, 4, 5, 0, 0, 9, 4, 9, 0, 1, 3, 8, 0, 8]), array([7, 4, 1, 9, 6, 3, 2, 5, 2, 3, 4, 5, 1, 5, 1, 2]), array([0, 9, 6, 5, 4, 0, 9, 1, 2, 8, 7, 5, 7, 6, 1, 7]), array([1, 5, 3, 4, 3, 4, 2, 5, 4, 5, 0, 4, 6, 7, 5, 7]), array([7, 8, 4, 6, 1, 0, 9, 4, 6, 4, 9, 6, 8, 0, 9, 4]), array([4, 4, 5, 5, 2, 8, 3, 1, 0, 0, 9, 1, 4, 7, 9, 5]), array([2, 7, 2, 3, 1, 2, 7, 8, 9, 1, 1, 1, 3, 8, 9, 5]), array([9, 5, 7, 6, 2, 5, 4, 0, 9, 3, 2, 0, 2, 7, 7, 1]), array([9, 9, 0, 9, 3, 4, 6, 1, 3, 7, 9, 9, 9, 2, 7, 5]), array([7, 8, 4, 8, 6, 9, 0, 5, 9, 8, 3, 1, 5, 7, 7, 9]), array([3, 4, 7, 6, 3, 0, 7, 3, 5, 5, 5, 4, 6, 8, 8, 6]), array([0, 4, 7, 2, 3, 8, 2, 3, 7, 3, 9, 8, 9, 1, 4, 6]), array([2, 5, 2, 8, 1, 8, 0, 5, 3, 5, 6, 4, 5, 4, 5, 2]), array([9, 4, 3, 2, 0, 8, 3, 6, 5, 3, 3, 8, 1, 4, 2, 2]), array([5, 5, 4, 4, 5, 0, 4, 1, 6, 7, 9, 7, 2, 9, 3, 4]), array([8, 5, 5, 7, 5, 2, 5, 9, 7, 8, 4, 4, 3, 9, 8, 2]), array([2, 8, 8, 5, 6, 3, 3, 1, 1, 0, 5, 5, 2, 3, 2, 7]), array([7, 7, 0, 5, 6, 5, 8, 7, 0, 6, 1, 7, 0, 6, 2, 2]), array([0, 6, 3, 1, 2, 2, 5, 6, 1, 0, 9, 7, 9, 8, 3, 2]), array([5, 6, 8, 2, 1, 7, 4, 5, 9, 0, 4, 7, 6, 4, 3, 7]), array([6, 2, 1, 8, 7, 0, 7, 2, 3, 8, 9, 7, 0, 3, 8, 1]), array([9, 2, 2, 3, 6, 9, 8, 2, 2, 9, 1, 4, 2, 3, 1, 3]), array([6, 8, 5, 9, 4, 4, 2, 5, 3, 9, 7, 1, 3, 4, 1, 0]), array([1, 9, 2, 8, 9, 7, 3, 8, 6, 8, 2, 4, 7, 1, 0, 0]), array([4, 2, 1, 1, 7, 4, 2, 4, 9, 8, 5, 0, 1, 1, 4, 4]), array([6, 7, 1, 8, 0, 5, 8, 7, 3, 8, 7, 2, 3, 6, 3, 8]), array([2, 4, 2, 8, 8, 0, 9, 7, 1, 8, 4, 1, 8, 6, 1, 5]), array([0, 5, 7, 0, 5, 0, 7, 6, 0, 5, 0, 8, 2, 6, 7, 0]), array([0, 0, 1, 9, 3, 6, 0, 9, 0, 2, 5, 5, 7, 8, 3, 5]), array([7, 0, 5, 0, 4, 1, 8, 1, 1, 3, 7, 2, 9, 3, 4, 7]), array([3, 9, 9, 4, 1, 5, 3, 8, 6, 4, 2, 0, 8, 0, 6, 5]), array([3, 4, 2, 5, 9, 4, 4, 2, 8, 0, 7, 5, 1, 9, 2, 2]), array([4, 3, 5, 0, 5, 3, 6, 5, 3, 4, 1, 7, 5, 4, 7, 0]), array([3, 7, 6, 0, 6, 2, 3, 9, 3, 9, 4, 0, 7, 1, 0, 3]), array([5, 1, 6, 0, 1, 7, 9, 3, 5, 8, 8, 4, 8, 3, 1, 2]), array([1, 5, 2, 6, 7, 0, 4, 2, 0, 0, 2, 2, 9, 0, 9, 2]), array([7, 1, 2, 8, 9, 4, 5, 5, 6, 5, 3, 4, 6, 1, 0, 2]), array([7, 1, 4, 2, 5, 2, 7, 4, 2, 0, 6, 9, 0, 0, 7, 5]), array([4, 7, 9, 4, 0, 7, 8, 0, 0, 6, 5, 0, 6, 0, 3, 7]), array([7, 4, 2, 5, 5, 2, 6, 3, 6, 4, 8, 7, 2, 0, 2, 9]), array([2, 6, 1, 5, 3, 7, 0, 2, 9, 1, 6, 3, 3, 0, 7, 7]), array([5, 6, 7, 1, 8, 0, 3, 2, 1, 1, 2, 3, 8, 5, 0, 0]), array([3, 0, 6, 8, 9, 8, 7, 7, 8, 5, 3, 2, 7, 2, 5, 7]), array([7, 7, 9, 6, 8, 9, 3, 8, 1, 5, 6, 3, 5, 7, 2, 0]), array([6, 7, 8, 9, 2, 5, 6, 0, 5, 3, 1, 1, 3, 3, 7, 2]), array([0, 9, 6, 5, 8, 9, 3, 6, 7, 9, 0, 8, 7, 8, 1, 6]), array([7, 7, 8, 8, 3, 1, 3, 8, 5, 5, 8, 1, 0, 4, 9, 6]), array([4, 1, 3, 3, 0, 6, 9, 9, 9, 0, 8, 2, 7, 1, 3, 5]), array([0, 8, 3, 8, 5, 5, 8, 3, 2, 9, 2, 2, 0, 8, 5, 0]), array([4, 0, 3, 6, 1, 8, 4, 3, 6, 7, 3, 7, 8, 3, 2, 4]), array([4, 2, 2, 2, 3, 6, 0, 8, 9, 3, 5, 2, 7, 6, 0, 7]), array([7, 3, 5, 5, 7, 5, 7, 0, 3, 9, 9, 8, 6, 0, 1, 4]), array([4, 1, 9, 3, 1, 1, 4, 3, 6, 8, 2, 5, 2, 2, 2, 1]), array([1, 7, 5, 4, 0, 1, 0, 3, 7, 2, 7, 8, 1, 8, 5, 8]), array([0, 4, 8, 4, 9, 1, 4, 3, 7, 7, 2, 0, 8, 7, 0, 9]), array([3, 2, 7, 9, 2, 6, 8, 0, 1, 9, 6, 5, 6, 5, 9, 8]), array([5, 1, 8, 5, 6, 9, 9, 7, 8, 8, 9, 6, 5, 3, 8, 5]), array([4, 0, 0, 0, 8, 7, 7, 2, 9, 2, 8, 6, 8, 9, 7, 9]), array([9, 5, 8, 5, 6, 6, 0, 0, 5, 0, 9, 9, 7, 3, 1, 5]), array([3, 8, 7, 9, 2, 0, 3, 5, 2, 8, 6, 3, 5, 8, 5, 0]), array([3, 0, 7, 5, 7, 2, 6, 5, 2, 4, 9, 1, 4, 3, 2, 5]), array([4, 9, 2, 0, 1, 6, 6, 1, 2, 7, 8, 1, 5, 0, 0, 9]), array([8, 6, 7, 8, 4, 9, 1, 8, 1, 7, 6, 5, 5, 3, 9, 2]), array([4, 9, 9, 9, 9, 3, 0, 3, 8, 0, 3, 3, 8, 5, 3, 4]), array([7, 6, 3, 7, 2, 2, 2, 6, 3, 0, 8, 8, 0, 0, 1, 7]), array([6, 0, 9, 7, 3, 8, 8, 3, 2, 7, 9, 0, 4, 3, 7, 3]), array([3, 1, 2, 0, 3, 8, 9, 2, 8, 0, 4, 1, 7, 7, 2, 7]), array([4, 8, 3, 1, 0, 0, 2, 7, 1, 1, 9, 3, 6, 5, 3, 6]), array([1, 1, 3, 0, 5, 5, 1, 9, 6, 3, 3, 7, 9, 2, 4, 6]), array([1, 2, 3, 9, 3, 4, 8, 6, 8, 5, 1, 7, 6, 9, 5, 3]), array([1, 2, 3, 5, 1, 5, 7, 2, 7, 6, 1, 3, 4, 1, 6, 9]), array([6, 7, 5, 1, 2, 8, 3, 9, 2, 3, 7, 1, 1, 2, 4, 7]), array([2, 1, 5, 1, 9, 2, 0, 9, 7, 2, 0, 9, 3, 9, 2, 1]), array([1, 8, 1, 2, 8, 2, 0, 5, 6, 4, 0, 8, 2, 1, 3, 0]), array([9, 0, 3, 0, 0, 7, 7, 4, 3, 0, 7, 7, 8, 2, 8, 7]), array([9, 8, 8, 5, 2, 8, 3, 9, 0, 5, 1, 0, 2, 8, 3, 8]), array([5, 2, 0, 5, 4, 0, 2, 6, 5, 1, 2, 0, 2, 7, 0, 1]), array([1, 8, 2, 2, 6, 7, 9, 7, 0, 9, 9, 5, 5, 1, 3, 6]), array([5, 0, 9, 5, 4, 2, 6, 1, 5, 3, 0, 2, 2, 5, 2, 5]), array([7, 6, 9, 5, 6, 2, 4, 7, 2, 6, 0, 2, 8, 1, 3, 2]), array([7, 2, 6, 3, 5, 3, 2, 9, 3, 7, 4, 3, 7, 9, 3, 9]), array([7, 6, 4, 5, 9, 4, 1, 2, 7, 2, 2, 0, 3, 6, 7, 3]), array([9, 0, 6, 8, 7, 8, 1, 4, 1, 7, 2, 8, 1, 3, 5, 3]), array([8, 1, 0, 6, 3, 6, 8, 3, 2, 8, 0, 4, 2, 9, 3, 5]), array([7, 4, 4, 3, 1, 8, 8, 8, 9, 2, 1, 5, 6, 7, 0, 3]), array([0, 2, 9, 3, 2, 1, 0, 1, 3, 9, 9, 6, 1, 2, 8, 5]), array([0, 5, 4, 3, 3, 5, 0, 7, 4, 6, 4, 8, 3, 1, 1, 2]), array([7, 6, 9, 6, 2, 9, 8, 6, 9, 2, 5, 8, 0, 2, 3, 5]), array([2, 2, 5, 9, 5, 1, 8, 5, 7, 1, 3, 4, 3, 2, 3, 3]), array([6, 4, 4, 7, 3, 5, 1, 1, 8, 5, 1, 9, 1, 6, 1, 1]), array([9, 8, 0, 5, 8, 9, 8, 7, 0, 5, 3, 8, 3, 1, 9, 3]), array([1, 5, 3, 1, 2, 1, 9, 3, 9, 0, 4, 5, 1, 0, 5, 7]), array([2, 7, 5, 7, 3, 4, 4, 2, 0, 9, 2, 7, 8, 5, 3, 0]), array([7, 8, 0, 0, 6, 2, 7, 8, 8, 6, 2, 0, 1, 9, 5, 6]), array([4, 5, 2, 3, 9, 3, 7, 4, 5, 2, 0, 5, 5, 1, 5, 7]), array([5, 4, 5, 9, 4, 3, 2, 5, 4, 4, 0, 7, 6, 7, 1, 1]), array([8, 2, 9, 9, 7, 6, 4, 1, 3, 7, 6, 6, 4, 9, 2, 6]), array([0, 4, 0, 5, 4, 1, 1, 2, 9, 8, 6, 6, 4, 0, 5, 2]), array([3, 7, 0, 9, 5, 9, 4, 2, 2, 3, 7, 1, 1, 5, 8, 7]), array([3, 8, 4, 8, 3, 3, 3, 1, 4, 0, 4, 3, 5, 5, 9, 7]), array([0, 2, 3, 3, 4, 8, 1, 5, 8, 2, 6, 3, 4, 6, 5, 8]), array([2, 7, 5, 7, 9, 3, 1, 6, 9, 2, 0, 5, 3, 8, 7, 7]), array([5, 3, 1, 7, 3, 8, 4, 0, 5, 1, 2, 8, 3, 9, 1, 6]), array([4, 5, 7, 0, 3, 2, 9, 4, 6, 6, 8, 9, 1, 9, 7, 3]), array([1, 0, 2, 9, 0, 3, 2, 2, 8, 0, 6, 1, 5, 3, 1, 0]), array([4, 4, 8, 5, 7, 0, 8, 8, 9, 2, 8, 5, 1, 0, 7, 7]), array([4, 8, 0, 2, 2, 5, 4, 2, 4, 1, 5, 2, 9, 9, 9, 8]), array([5, 4, 1, 8, 8, 5, 7, 4, 7, 8, 7, 2, 5, 4, 2, 4]), array([1, 0, 5, 8, 4, 6, 6, 7, 1, 0, 0, 5, 9, 7, 8, 7]), array([7, 0, 2, 4, 3, 3, 8, 1, 6, 7, 0, 9, 4, 2, 3, 1]), array([9, 0, 9, 4, 3, 7, 0, 2, 3, 8, 8, 2, 1, 1, 9, 9]), array([9, 5, 3, 2, 0, 1, 3, 3, 4, 5, 6, 1, 7, 3, 8, 3]), array([8, 6, 5, 5, 7, 3, 2, 5, 3, 7, 0, 8, 7, 3, 1, 1]), array([3, 6, 3, 3, 3, 6, 4, 9, 1, 0, 0, 2, 5, 0, 8, 9]), array([2, 1, 3, 6, 6, 5, 8, 2, 3, 3, 2, 5, 1, 2, 7, 2]), array([2, 0, 2, 3, 0, 6, 0, 1, 5, 7, 8, 6, 9, 8, 4, 0]), array([3, 1, 4, 1, 6, 1, 1, 9, 4, 6, 7, 6, 1, 7, 9, 3]), array([7, 2, 8, 5, 9, 2, 1, 7, 1, 5, 3, 8, 4, 5, 6, 1]), array([6, 1, 0, 2, 2, 2, 6, 9, 0, 3, 2, 3, 7, 0, 6, 3]), array([3, 1, 5, 1, 6, 0, 1, 8, 8, 5, 1, 7, 7, 6, 0, 6]), array([4, 0, 8, 3, 4, 0, 9, 9, 6, 9, 3, 9, 2, 5, 4, 2]), array([4, 3, 7, 8, 8, 0, 5, 1, 7, 6, 8, 0, 8, 3, 4, 2]), array([3, 4, 4, 3, 6, 0, 3, 3, 0, 7, 8, 1, 9, 8, 7, 1]), array([3, 1, 8, 0, 3, 8, 1, 6, 2, 3, 8, 1, 9, 7, 7, 6]), array([9, 7, 5, 5, 2, 9, 1, 3, 1, 2, 4, 9, 8, 9, 2, 8]), array([1, 7, 2, 3, 2, 5, 5, 2, 7, 1, 2, 8, 6, 5, 0, 5]), array([5, 0, 4, 1, 0, 2, 4, 5, 1, 6, 3, 3, 9, 3, 5, 6]), array([7, 5, 1, 1, 5, 3, 8, 3, 8, 0, 1, 1, 7, 8, 5, 2]), array([3, 3, 7, 0, 8, 9, 3, 7, 2, 4, 9, 0, 2, 1, 5, 3]), array([2, 0, 9, 3, 1, 9, 1, 7, 7, 0, 2, 5, 7, 3, 4, 9]), array([9, 7, 7, 5, 0, 0, 1, 3, 7, 1, 2, 3, 1, 2, 5, 9]), array([6, 5, 9, 6, 8, 0, 7, 4, 5, 2, 2, 5, 8, 1, 8, 3]), array([0, 2, 1, 7, 7, 9, 1, 2, 3, 2, 9, 5, 7, 0, 5, 0]), array([0, 5, 2, 8, 5, 3, 8, 1, 1, 1, 2, 5, 8, 3, 1, 2]), array([0, 3, 6, 1, 9, 4, 8, 8, 9, 1, 6, 0, 9, 4, 5, 3]), array([2, 5, 2, 9, 8, 6, 6, 0, 1, 3, 1, 5, 4, 4, 3, 9]), array([0, 5, 9, 1, 4, 2, 5, 9, 2, 4, 9, 0, 0, 2, 4, 3]), array([1, 9, 5, 5, 9, 3, 7, 3, 6, 7, 7, 3, 4, 1, 6, 2]), array([5, 2, 6, 9, 5, 0, 6, 9, 6, 6, 0, 8, 6, 2, 8, 7]), array([1, 4, 8, 9, 0, 0, 1, 0, 5, 5, 5, 2, 7, 0, 3, 5]), array([5, 7, 6, 6, 6, 8, 1, 8, 7, 7, 5, 2, 3, 3, 1, 9]), array([8, 6, 6, 5, 5, 6, 5, 2, 6, 7, 0, 7, 7, 3, 1, 2]), array([5, 5, 9, 7, 4, 0, 6, 5, 9, 7, 3, 9, 8, 8, 6, 5]), array([5, 3, 1, 2, 1, 6, 2, 6, 5, 9, 8, 9, 8, 6, 8, 6]), array([5, 7, 0, 4, 9, 9, 8, 0, 4, 9, 1, 5, 1, 3, 4, 8]), array([5, 9, 0, 7, 9, 8, 9, 7, 0, 3, 4, 8, 7, 5, 8, 3]), array([1, 3, 9, 2, 3, 5, 3, 5, 0, 8, 8, 2, 8, 2, 1, 1]), array([8, 7, 9, 6, 1, 3, 6, 3, 8, 2, 6, 2, 8, 9, 1, 3]), array([6, 8, 9, 1, 5, 1, 0, 2, 7, 8, 5, 1, 2, 6, 7, 0]), array([2, 1, 9, 3, 3, 2, 5, 0, 4, 1, 0, 6, 8, 8, 1, 1]), array([2, 2, 8, 6, 9, 6, 2, 0, 9, 2, 9, 7, 7, 6, 1, 8]), array([0, 5, 9, 2, 5, 9, 3, 0, 3, 0, 2, 6, 8, 9, 8, 6]), array([3, 2, 3, 4, 9, 3, 6, 8, 0, 1, 3, 9, 3, 3, 4, 4]), array([0, 1, 7, 5, 4, 8, 6, 0, 4, 8, 9, 0, 9, 3, 2, 9]), array([2, 4, 9, 9, 1, 1, 4, 7, 9, 4, 7, 7, 8, 6, 0, 3]), array([2, 0, 6, 4, 3, 3, 5, 0, 2, 3, 1, 5, 6, 3, 7, 1]), array([9, 2, 3, 1, 3, 5, 3, 7, 1, 5, 3, 5, 3, 4, 8, 7]), array([7, 4, 5, 3, 6, 4, 3, 6, 8, 5, 0, 0, 9, 6, 0, 7]), array([3, 0, 6, 7, 0, 4, 9, 0, 6, 9, 4, 4, 1, 7, 2, 5]), array([4, 8, 8, 0, 2, 2, 5, 4, 6, 0, 6, 7, 2, 8, 2, 6]), array([1, 0, 2, 9, 9, 7, 1, 3, 5, 0, 3, 9, 3, 9, 8, 0]), array([2, 3, 1, 6, 2, 5, 4, 9, 1, 0, 1, 8, 7, 8, 3, 5]), array([0, 8, 0, 3, 0, 1, 3, 5, 2, 5, 6, 9, 4, 9, 1, 8]), array([9, 2, 3, 1, 0, 7, 4, 0, 9, 2, 8, 3, 5, 3, 3, 1]), array([5, 1, 0, 2, 3, 9, 7, 9, 5, 9, 0, 9, 2, 7, 1, 1]), array([1, 3, 7, 0, 5, 6, 9, 1, 9, 7, 1, 6, 2, 6, 4, 2]), array([8, 4, 0, 5, 4, 2, 6, 5, 5, 9, 6, 1, 5, 8, 2, 7]), array([8, 5, 6, 8, 3, 1, 9, 7, 6, 5, 2, 2, 9, 0, 3, 5]), array([8, 6, 2, 9, 2, 0, 4, 6, 8, 3, 9, 9, 8, 5, 4, 6]), array([1, 2, 9, 2, 5, 7, 7, 2, 6, 8, 0, 7, 9, 8, 1, 4]), array([9, 9, 6, 8, 5, 9, 2, 9, 7, 2, 1, 6, 3, 1, 6, 4]), array([2, 7, 8, 9, 7, 3, 9, 6, 5, 1, 1, 2, 9, 7, 4, 5]), array([7, 5, 8, 8, 7, 7, 1, 7, 3, 8, 4, 4, 7, 3, 7, 7]), array([1, 9, 8, 2, 5, 0, 7, 1, 3, 9, 7, 7, 5, 2, 7, 2]), array([1, 6, 8, 5, 6, 9, 5, 3, 5, 7, 4, 8, 6, 5, 8, 3]), array([9, 7, 6, 7, 8, 2, 1, 8, 7, 1, 9, 8, 1, 2, 4, 5]), array([2, 0, 6, 2, 8, 9, 9, 5, 0, 2, 8, 5, 2, 5, 1, 0]), array([0, 8, 0, 2, 6, 0, 4, 6, 9, 1, 6, 1, 3, 2, 4, 9]), array([9, 2, 9, 3, 0, 2, 3, 0, 7, 9, 2, 7, 3, 3, 4, 1]), array([7, 2, 7, 0, 5, 5, 4, 0, 6, 7, 2, 0, 7, 8, 0, 5]), array([2, 5, 8, 6, 3, 9, 0, 0, 9, 1, 3, 5, 2, 0, 7, 3]), array([3, 7, 1, 8, 1, 3, 3, 8, 6, 7, 1, 5, 0, 4, 3, 6]), array([5, 0, 0, 1, 5, 6, 8, 0, 1, 2, 2, 5, 5, 9, 6, 7]), array([6, 5, 7, 9, 6, 9, 8, 0, 2, 3, 3, 1, 1, 9, 6, 4]), array([6, 2, 6, 3, 7, 1, 0, 2, 8, 0, 4, 4, 5, 1, 2, 7]), array([7, 4, 8, 7, 7, 6, 0, 2, 2, 4, 8, 0, 2, 9, 6, 3]), array([0, 7, 5, 1, 4, 3, 1, 0, 1, 8, 0, 4, 0, 3, 0, 4]), array([8, 3, 9, 1, 8, 3, 7, 0, 3, 6, 9, 5, 9, 2, 7, 5]), array([9, 6, 1, 3, 4, 1, 7, 0, 5, 5, 3, 6, 8, 6, 3, 9]), array([3, 6, 3, 0, 7, 8, 3, 9, 2, 3, 8, 6, 0, 7, 9, 3]), array([4, 0, 3, 7, 2, 6, 7, 2, 5, 3, 6, 3, 2, 0, 1, 0]), array([2, 2, 6, 7, 9, 8, 6, 0, 5, 1, 5, 8, 0, 2, 5, 0]), array([8, 8, 9, 4, 0, 8, 8, 5, 4, 6, 6, 8, 2, 8, 1, 6]), array([6, 9, 9, 2, 7, 0, 5, 2, 3, 3, 0, 4, 1, 1, 0, 0]), array([8, 9, 9, 6, 9, 2, 9, 9, 4, 0, 5, 7, 5, 8, 6, 0]), array([2, 7, 1, 1, 6, 3, 0, 7, 5, 3, 3, 5, 5, 5, 5, 3]), array([4, 1, 4, 2, 8, 1, 6, 8, 7, 1, 0, 3, 1, 2, 6, 3]), array([3, 0, 1, 4, 9, 1, 0, 8, 1, 9, 2, 8, 0, 0, 1, 3]), array([5, 3, 9, 1, 3, 6, 3, 8, 5, 8, 2, 0, 1, 9, 2, 2]), array([5, 3, 6, 1, 7, 7, 2, 1, 8, 5, 2, 8, 5, 2, 0, 4]), array([6, 2, 5, 4, 0, 2, 2, 9, 1, 9, 5, 4, 0, 2, 2, 8]), array([5, 4, 3, 6, 3, 3, 6, 0, 3, 2, 5, 2, 7, 0, 9, 7]), array([7, 3, 9, 3, 0, 7, 9, 5, 5, 4, 0, 0, 7, 7, 3, 8]), array([0, 2, 1, 9, 0, 6, 8, 8, 7, 2, 5, 3, 2, 5, 5, 6]), array([1, 3, 1, 1, 3, 9, 0, 2, 2, 4, 7, 0, 0, 9, 5, 3]), array([5, 8, 0, 5, 7, 7, 5, 9, 8, 9, 5, 8, 6, 0, 8, 7]), array([7, 0, 8, 9, 7, 5, 3, 4, 2, 0, 3, 1, 3, 0, 7, 1]), array([0, 1, 3, 3, 4, 5, 9, 4, 7, 7, 5, 4, 2, 9, 2, 8]), array([9, 5, 3, 3, 2, 9, 7, 9, 2, 3, 8, 4, 8, 7, 7, 6]), array([4, 9, 3, 1, 4, 1, 3, 2, 4, 5, 7, 1, 0, 1, 8, 5]), array([0, 4, 0, 7, 4, 3, 2, 8, 8, 5, 0, 7, 0, 6, 4, 4]), array([0, 6, 8, 7, 6, 3, 9, 9, 9, 2, 2, 5, 0, 2, 6, 7]), array([1, 3, 8, 6, 1, 4, 2, 7, 6, 8, 0, 1, 9, 3, 4, 1]), array([4, 2, 4, 7, 9, 7, 8, 3, 5, 9, 5, 8, 3, 9, 8, 4]), array([8, 0, 4, 4, 9, 0, 3, 5, 1, 9, 6, 3, 5, 0, 2, 7]), array([2, 4, 9, 1, 9, 3, 0, 3, 2, 2, 2, 5, 2, 1, 5, 4]), array([3, 3, 7, 5, 6, 8, 2, 7, 7, 7, 8, 9, 4, 3, 2, 0]), array([6, 3, 2, 7, 1, 3, 8, 2, 3, 9, 1, 0, 5, 4, 3, 3]), array([1, 8, 1, 1, 4, 3, 2, 4, 5, 8, 8, 2, 5, 4, 8, 3]), array([0, 6, 9, 4, 2, 8, 7, 2, 8, 2, 7, 4, 5, 1, 5, 9]), array([4, 6, 0, 3, 3, 5, 2, 7, 9, 2, 1, 2, 5, 6, 9, 1]), array([1, 3, 0, 6, 7, 6, 9, 0, 1, 7, 3, 9, 0, 7, 6, 9]), array([2, 3, 1, 0, 8, 9, 7, 3, 3, 5, 7, 6, 6, 7, 8, 4]), array([4, 9, 6, 5, 1, 7, 5, 7, 3, 0, 2, 3, 4, 4, 2, 4]), array([8, 5, 9, 9, 2, 4, 5, 7, 0, 1, 3, 9, 8, 1, 4, 4]), array([0, 1, 7, 6, 7, 7, 2, 4, 4, 7, 0, 8, 9, 0, 1, 5]), array([6, 7, 0, 5, 3, 1, 3, 9, 0, 1, 4, 5, 6, 7, 9, 2]), array([9, 1, 8, 2, 7, 2, 2, 6, 7, 6, 5, 6, 4, 9, 3, 1]), array([0, 2, 1, 1, 8, 5, 7, 2, 5, 6, 2, 1, 6, 8, 2, 4]), array([4, 0, 8, 0, 8, 9, 2, 1, 3, 2, 1, 9, 0, 5, 2, 5]), array([8, 8, 2, 4, 9, 0, 1, 8, 6, 6, 2, 7, 6, 5, 2, 0]), array([3, 4, 8, 0, 7, 8, 2, 3, 0, 2, 9, 4, 3, 2, 1, 0]), array([0, 3, 6, 9, 2, 1, 3, 5, 8, 7, 9, 0, 7, 9, 1, 7]), array([5, 2, 0, 2, 9, 5, 0, 8, 0, 5, 3, 7, 5, 9, 0, 5]), array([6, 8, 5, 4, 0, 2, 1, 5, 0, 3, 2, 1, 8, 7, 5, 0]), array([2, 0, 9, 2, 8, 0, 3, 1, 5, 4, 7, 4, 5, 7, 3, 4]), array([7, 7, 1, 7, 3, 5, 0, 4, 6, 5, 0, 1, 3, 5, 3, 6]), array([9, 8, 3, 5, 2, 2, 4, 8, 4, 4, 3, 6, 7, 2, 9, 7]), array([1, 8, 0, 6, 1, 8, 5, 2, 1, 2, 8, 7, 6, 4, 7, 7]), array([4, 5, 5, 6, 3, 4, 2, 1, 6, 2, 7, 4, 1, 0, 7, 1]), array([2, 6, 6, 0, 5, 4, 0, 5, 8, 6, 1, 0, 4, 6, 8, 5]), array([7, 0, 7, 5, 1, 5, 9, 0, 2, 1, 7, 2, 9, 5, 5, 3]), array([0, 2, 2, 4, 9, 7, 1, 9, 9, 7, 9, 4, 9, 2, 2, 9]), array([3, 7, 8, 2, 9, 0, 7, 8, 9, 2, 5, 4, 8, 1, 6, 6]), array([0, 0, 8, 6, 1, 3, 0, 5, 2, 2, 9, 2, 7, 2, 5, 7]), array([6, 0, 9, 0, 3, 0, 2, 8, 6, 5, 9, 8, 6, 8, 8, 4]), array([9, 2, 3, 2, 9, 1, 2, 5, 2, 9, 7, 6, 6, 0, 2, 1]), array([2, 6, 2, 1, 1, 1, 1, 5, 7, 1, 7, 4, 3, 3, 5, 2]), array([5, 4, 2, 3, 8, 0, 1, 0, 2, 7, 8, 6, 8, 9, 0, 9]), array([6, 9, 1, 5, 8, 0, 9, 9, 3, 5, 7, 0, 8, 3, 2, 2]), array([4, 2, 1, 9, 2, 4, 7, 3, 7, 1, 6, 6, 3, 5, 8, 8]), array([3, 0, 9, 3, 9, 4, 2, 7, 1, 5, 0, 3, 3, 8, 5, 3]), array([7, 7, 8, 1, 2, 3, 7, 6, 2, 5, 3, 8, 0, 3, 7, 0]), array([3, 2, 5, 9, 6, 2, 0, 6, 6, 8, 2, 0, 7, 4, 2, 0]), array([6, 9, 3, 2, 7, 2, 6, 1, 1, 7, 1, 9, 3, 3, 9, 6]), array([1, 9, 6, 4, 6, 0, 7, 4, 1, 2, 0, 6, 5, 9, 9, 2]), array([7, 6, 3, 4, 3, 4, 1, 6, 9, 5, 5, 0, 7, 6, 9, 7]), array([7, 2, 1, 3, 6, 7, 1, 7, 0, 9, 3, 6, 7, 5, 8, 4]), array([6, 7, 4, 7, 2, 6, 9, 4, 0, 5, 6, 4, 7, 5, 3, 0]), array([1, 4, 8, 2, 1, 5, 7, 2, 5, 8, 0, 7, 8, 0, 2, 6]), array([9, 9, 1, 4, 7, 3, 8, 4, 9, 2, 6, 1, 5, 8, 4, 9]), array([5, 2, 3, 2, 8, 2, 0, 0, 9, 7, 5, 4, 5, 5, 7, 2]), array([1, 3, 7, 0, 8, 6, 8, 6, 7, 3, 2, 5, 3, 0, 2, 3]), array([6, 5, 3, 5, 8, 6, 2, 1, 9, 2, 9, 2, 0, 1, 8, 4]), array([7, 1, 2, 2, 7, 2, 4, 9, 8, 9, 1, 6, 2, 6, 8, 0]), array([1, 3, 6, 3, 4, 5, 3, 0, 5, 3, 2, 6, 0, 1, 6, 7]), array([6, 8, 9, 1, 3, 7, 3, 9, 7, 6, 8, 3, 3, 6, 8, 0]), array([2, 0, 0, 9, 4, 1, 5, 2, 8, 6, 0, 4, 3, 6, 5, 9]), array([1, 2, 4, 0, 4, 7, 9, 7, 8, 2, 3, 7, 9, 4, 4, 2]), array([8, 9, 7, 9, 7, 4, 8, 3, 3, 4, 5, 1, 9, 7, 2, 0]), array([7, 9, 8, 7, 0, 6, 5, 8, 5, 8, 6, 9, 7, 7, 5, 8]), array([0, 8, 4, 0, 1, 9, 8, 4, 1, 4, 4, 2, 5, 2, 7, 6]), array([8, 8, 2, 5, 6, 5, 5, 6, 9, 3, 7, 3, 0, 5, 9, 1]), array([0, 1, 5, 0, 2, 3, 6, 2, 2, 4, 9, 2, 9, 2, 5, 2]), array([2, 3, 3, 8, 6, 2, 0, 5, 6, 7, 9, 0, 3, 3, 0, 8]), array([8, 2, 8, 4, 2, 0, 8, 8, 2, 7, 2, 7, 6, 4, 2, 5]), array([8, 3, 6, 7, 8, 7, 6, 5, 5, 3, 6, 1, 3, 3, 2, 2]), array([5, 1, 3, 4, 2, 8, 9, 7, 9, 4, 6, 3, 9, 3, 7, 4]), array([0, 1, 8, 1, 3, 6, 4, 2, 1, 6, 3, 0, 5, 1, 4, 6]), array([5, 9, 4, 2, 5, 5, 3, 6, 1, 7, 0, 6, 3, 2, 5, 1]), array([9, 4, 6, 2, 1, 6, 2, 3, 9, 6, 3, 1, 5, 6, 4, 8]), array([6, 0, 7, 3, 9, 2, 7, 0, 3, 0, 2, 0, 9, 3, 3, 2]), array([2, 7, 0, 9, 3, 6, 8, 5, 8, 4, 5, 9, 9, 0, 4, 6]), array([0, 4, 1, 3, 4, 5, 2, 8, 3, 5, 0, 1, 5, 5, 2, 9]), array([5, 3, 9, 6, 6, 0, 3, 3, 2, 4, 2, 7, 5, 1, 6, 5]), array([6, 7, 8, 8, 4, 3, 1, 1, 1, 5, 6, 7, 7, 7, 3, 3]), array([0, 1, 2, 9, 1, 4, 0, 5, 6, 5, 8, 2, 9, 2, 0, 1]), array([3, 3, 3, 7, 9, 2, 3, 9, 3, 5, 0, 2, 0, 5, 7, 8]), array([8, 5, 2, 4, 4, 8, 6, 1, 7, 8, 1, 0, 0, 9, 5, 4]), array([0, 8, 1, 2, 3, 3, 8, 6, 8, 1, 6, 3, 9, 4, 7, 1]), array([1, 5, 5, 8, 0, 1, 1, 3, 3, 9, 7, 9, 6, 4, 2, 1]), array([8, 5, 9, 5, 3, 5, 3, 5, 3, 8, 9, 4, 5, 6, 5, 2]), array([8, 7, 0, 7, 6, 6, 8, 1, 1, 5, 5, 7, 2, 2, 0, 2]), array([3, 5, 7, 1, 0, 4, 7, 0, 5, 6, 2, 3, 1, 3, 4, 3]), array([7, 0, 5, 2, 8, 2, 8, 8, 1, 2, 3, 2, 6, 3, 5, 5]), array([4, 1, 0, 9, 7, 0, 2, 2, 5, 6, 1, 5, 6, 9, 5, 0]), array([6, 3, 1, 1, 8, 5, 0, 7, 4, 7, 1, 7, 2, 7, 0, 9]), array([4, 5, 5, 0, 8, 6, 9, 1, 7, 4, 4, 4, 1, 0, 7, 1]), array([3, 8, 5, 7, 7, 4, 3, 8, 2, 3, 3, 2, 9, 3, 6, 5]), array([0, 2, 7, 5, 6, 5, 0, 9, 2, 5, 8, 2, 7, 3, 6, 6]), array([4, 3, 5, 7, 5, 2, 5, 6, 7, 1, 2, 0, 2, 5, 1, 3]), array([1, 1, 1, 0, 4, 9, 2, 4, 7, 7, 5, 3, 4, 7, 2, 5]), array([8, 8, 9, 6, 5, 0, 4, 6, 1, 7, 6, 8, 9, 2, 6, 7]), array([3, 4, 9, 6, 1, 3, 2, 5, 9, 6, 5, 8, 1, 6, 1, 1]), array([4, 4, 7, 8, 0, 0, 7, 2, 4, 4, 1, 6, 7, 5, 3, 0]), array([4, 9, 0, 2, 1, 3, 0, 8, 9, 4, 8, 1, 7, 2, 2, 4]), array([6, 0, 5, 7, 7, 0, 1, 4, 7, 1, 7, 9, 2, 5, 6, 0]), array([8, 2, 4, 7, 9, 8, 2, 2, 0, 8, 4, 3, 9, 2, 1, 8]), array([3, 6, 5, 1, 1, 5, 5, 7, 5, 5, 1, 4, 1, 5, 7, 6]), array([3, 5, 7, 2, 5, 5, 8, 6, 7, 0, 2, 6, 1, 8, 4, 5]), array([3, 1, 2, 0, 3, 5, 6, 8, 5, 8, 0, 6, 7, 4, 5, 0]), array([0, 5, 2, 4, 8, 2, 7, 8, 0, 5, 9, 8, 2, 9, 3, 9]), array([5, 6, 9, 8, 3, 5, 4, 3, 6, 7, 7, 5, 7, 8, 7, 3]), array([1, 3, 9, 9, 8, 0, 5, 7, 2, 8, 6, 8, 4, 2, 9, 5]), array([4, 7, 9, 7, 2, 8, 8, 5, 0, 1, 6, 8, 3, 3, 1, 1]), array([6, 1, 2, 5, 1, 3, 6, 2, 4, 6, 8, 3, 1, 0, 0, 3]), array([9, 2, 8, 0, 2, 2, 4, 5, 0, 8, 7, 1, 9, 1, 2, 6]), array([1, 3, 9, 6, 7, 8, 0, 3, 3, 2, 2, 8, 3, 2, 3, 2]), array([5, 7, 9, 6, 8, 8, 1, 7, 9, 7, 2, 3, 0, 4, 9, 1]), array([9, 2, 3, 6, 3, 1, 2, 7, 3, 9, 8, 7, 5, 9, 8, 9]), array([6, 0, 6, 9, 4, 6, 5, 8, 5, 6, 9, 5, 3, 1, 7, 0]), array([5, 9, 2, 2, 5, 3, 3, 2, 7, 1, 6, 2, 3, 5, 3, 7]), array([8, 0, 3, 9, 1, 3, 0, 0, 8, 6, 5, 7, 0, 9, 5, 1]), array([2, 3, 6, 0, 3, 2, 5, 7, 9, 6, 8, 2, 0, 5, 7, 0]), array([4, 5, 0, 2, 0, 0, 5, 3, 5, 6, 1, 5, 5, 3, 3, 4]), array([3, 7, 5, 5, 7, 0, 8, 0, 2, 1, 6, 9, 9, 3, 8, 7]), array([6, 6, 2, 2, 3, 1, 0, 6, 0, 9, 2, 1, 3, 2, 9, 8]), array([1, 4, 0, 1, 0, 3, 4, 4, 3, 1, 6, 6, 7, 9, 1, 0]), array([0, 1, 2, 4, 7, 0, 4, 7, 6, 9, 4, 2, 3, 9, 2, 9]), array([2, 2, 5, 7, 8, 9, 3, 2, 5, 6, 2, 3, 9, 4, 6, 7]), array([5, 0, 5, 2, 3, 8, 8, 3, 5, 1, 2, 1, 3, 5, 4, 6]), array([9, 4, 6, 5, 3, 5, 8, 7, 1, 9, 2, 8, 0, 5, 9, 9]), array([3, 6, 9, 3, 6, 2, 1, 8, 9, 7, 4, 7, 3, 5, 9, 2]), array([2, 2, 6, 4, 9, 3, 5, 3, 7, 4, 7, 6, 5, 5, 4, 5]), array([1, 8, 6, 3, 0, 1, 1, 2, 7, 2, 4, 4, 5, 1, 2, 7]), array([4, 1, 5, 1, 2, 3, 7, 8, 2, 6, 2, 4, 2, 9, 8, 9]), array([3, 9, 3, 2, 1, 8, 9, 9, 6, 7, 6, 0, 2, 5, 6, 2]), array([6, 0, 9, 5, 1, 8, 5, 0, 0, 4, 6, 2, 4, 9, 8, 9]), array([5, 2, 5, 5, 1, 8, 9, 3, 1, 2, 7, 3, 8, 5, 8, 6]), array([2, 4, 7, 6, 8, 2, 9, 3, 9, 2, 6, 2, 9, 9, 5, 1]), array([2, 6, 7, 7, 5, 0, 1, 9, 0, 8, 5, 2, 8, 1, 3, 9]), array([3, 3, 1, 3, 9, 2, 3, 3, 5, 1, 5, 0, 3, 5, 0, 1]), array([5, 7, 4, 9, 3, 4, 1, 7, 7, 1, 0, 9, 2, 3, 9, 1]), array([0, 9, 3, 3, 6, 6, 5, 9, 0, 3, 1, 5, 7, 2, 6, 6]), array([7, 5, 9, 4, 2, 5, 0, 8, 4, 2, 5, 6, 8, 7, 6, 5]), array([4, 5, 8, 9, 5, 1, 2, 7, 8, 4, 1, 0, 2, 7, 0, 6]), array([0, 4, 1, 4, 2, 4, 5, 3, 2, 5, 4, 7, 3, 1, 7, 1]), array([2, 3, 7, 9, 5, 8, 1, 6, 4, 4, 2, 9, 3, 1, 0, 7]), array([2, 9, 0, 3, 4, 9, 6, 3, 9, 0, 7, 8, 9, 5, 1, 6]), array([6, 5, 1, 6, 8, 2, 3, 8, 4, 2, 5, 9, 3, 9, 7, 0]), array([0, 3, 4, 8, 7, 3, 9, 0, 4, 1, 6, 5, 6, 3, 0, 0]), array([5, 2, 7, 8, 3, 5, 8, 0, 3, 0, 6, 7, 5, 8, 3, 1]), array([2, 6, 7, 0, 7, 6, 5, 3, 9, 0, 8, 5, 8, 8, 1, 6]), array([3, 2, 2, 5, 3, 8, 8, 6, 7, 7, 4, 0, 1, 1, 3, 9]), array([3, 3, 2, 7, 0, 8, 2, 5, 0, 0, 4, 4, 8, 1, 1, 4]), array([5, 5, 2, 5, 7, 5, 6, 6, 5, 9, 2, 8, 6, 2, 6, 8]), array([8, 8, 4, 5, 2, 3, 5, 8, 9, 4, 0, 3, 2, 2, 2, 0]), array([4, 3, 5, 9, 4, 1, 2, 2, 2, 8, 1, 2, 2, 1, 7, 6]), array([5, 5, 1, 6, 7, 5, 3, 5, 5, 2, 4, 7, 8, 7, 0, 3]), array([9, 0, 0, 1, 5, 1, 0, 8, 9, 6, 2, 4, 0, 5, 4, 9]), array([4, 0, 3, 6, 6, 6, 9, 5, 2, 6, 4, 5, 1, 8, 9, 6]), array([2, 8, 9, 4, 1, 6, 6, 3, 4, 0, 1, 0, 8, 0, 1, 3]), array([3, 0, 3, 4, 5, 8, 4, 1, 7, 2, 9, 5, 5, 6, 1, 5]), array([5, 7, 9, 5, 2, 1, 7, 2, 9, 5, 6, 0, 0, 1, 1, 1]), array([8, 9, 8, 2, 2, 2, 8, 3, 0, 0, 1, 7, 2, 5, 7, 9]), array([1, 3, 4, 7, 8, 6, 7, 3, 6, 1, 9, 0, 0, 3, 0, 7]), array([6, 1, 1, 2, 1, 2, 7, 2, 6, 1, 8, 7, 3, 7, 0, 7]), array([1, 0, 9, 3, 8, 5, 8, 9, 9, 0, 8, 9, 4, 0, 8, 1]), array([3, 5, 2, 4, 3, 9, 9, 0, 6, 0, 1, 7, 9, 3, 2, 3]), array([8, 6, 9, 9, 7, 9, 4, 6, 0, 5, 5, 5, 4, 4, 2, 7]), array([1, 7, 0, 3, 5, 4, 9, 4, 5, 6, 4, 1, 3, 5, 6, 2]), array([0, 6, 1, 7, 8, 8, 5, 5, 8, 6, 3, 0, 6, 0, 2, 3]), array([8, 7, 3, 9, 1, 1, 2, 6, 9, 5, 1, 5, 9, 1, 2, 7]), array([5, 5, 1, 8, 2, 1, 8, 0, 9, 7, 5, 1, 4, 5, 0, 3]), array([7, 9, 8, 3, 3, 2, 3, 8, 2, 7, 4, 1, 7, 6, 9, 4]), array([8, 2, 9, 4, 2, 4, 6, 5, 3, 6, 7, 0, 9, 7, 9, 9]), array([6, 6, 4, 7, 9, 4, 1, 5, 2, 1, 9, 1, 8, 3, 9, 8]), array([3, 7, 5, 8, 5, 2, 5, 7, 7, 2, 9, 0, 3, 4, 5, 0]), array([3, 1, 7, 6, 3, 8, 9, 6, 1, 1, 7, 0, 5, 5, 2, 5]), array([7, 0, 2, 3, 5, 4, 5, 2, 9, 1, 1, 9, 0, 2, 5, 5]), array([3, 5, 5, 1, 7, 2, 5, 9, 6, 2, 0, 9, 8, 4, 0, 9]), array([3, 5, 7, 8, 3, 0, 5, 6, 4, 1, 5, 1, 0, 8, 1, 5]), array([0, 5, 0, 1, 3, 0, 7, 9, 4, 8, 3, 3, 0, 0, 5, 5]), array([8, 3, 2, 8, 9, 0, 9, 3, 7, 9, 8, 1, 8, 9, 2, 8]), array([7, 5, 0, 3, 1, 1, 6, 2, 4, 1, 0, 6, 4, 5, 6, 4]), array([8, 7, 2, 5, 4, 1, 4, 5, 0, 4, 5, 7, 3, 5, 9, 5]), array([0, 5, 2, 8, 4, 8, 3, 7, 2, 0, 1, 4, 8, 3, 8, 2]), array([1, 1, 5, 5, 8, 7, 7, 2, 3, 8, 6, 6, 4, 1, 7, 6]), array([1, 6, 0, 9, 8, 9, 7, 0, 1, 9, 5, 7, 2, 5, 0, 2]), array([8, 0, 7, 3, 7, 7, 9, 5, 5, 3, 9, 4, 8, 7, 1, 0]), array([9, 1, 5, 1, 3, 9, 2, 6, 3, 3, 0, 3, 4, 6, 2, 3]), array([6, 0, 8, 4, 0, 5, 6, 9, 8, 5, 9, 7, 9, 0, 9, 8]), array([9, 8, 7, 4, 3, 7, 8, 6, 3, 2, 9, 0, 3, 7, 2, 8]), array([6, 5, 5, 5, 1, 5, 0, 8, 7, 5, 6, 1, 3, 8, 2, 9]), array([9, 1, 1, 5, 6, 6, 5, 9, 6, 1, 4, 2, 1, 3, 3, 0]), array([5, 2, 8, 7, 0, 9, 2, 9, 9, 6, 8, 2, 7, 0, 8, 1]), array([6, 2, 4, 5, 3, 2, 7, 9, 9, 0, 3, 8, 8, 5, 0, 0]), array([8, 8, 2, 2, 2, 4, 5, 4, 9, 2, 1, 5, 1, 7, 5, 3]), array([9, 9, 1, 1, 3, 2, 5, 1, 5, 0, 1, 5, 1, 2, 1, 3]), array([7, 5, 0, 6, 7, 5, 3, 2, 7, 9, 1, 2, 3, 7, 7, 5]), array([2, 9, 8, 5, 0, 2, 3, 1, 6, 5, 0, 8, 9, 8, 3, 3]), array([0, 4, 2, 0, 3, 4, 3, 5, 1, 9, 7, 4, 0, 1, 1, 0]), array([8, 6, 9, 2, 8, 4, 3, 2, 7, 7, 7, 7, 7, 5, 2, 6]), array([5, 8, 2, 7, 0, 7, 3, 6, 9, 6, 9, 4, 5, 4, 8, 5]), array([3, 5, 6, 3, 3, 5, 3, 0, 8, 8, 8, 3, 6, 9, 9, 0]), array([5, 3, 7, 3, 9, 9, 8, 5, 8, 3, 3, 0, 1, 6, 3, 5]), array([5, 9, 8, 6, 7, 4, 3, 8, 0, 9, 7, 8, 2, 1, 9, 4]), array([9, 2, 4, 8, 0, 9, 4, 9, 8, 2, 9, 1, 8, 7, 7, 3]), array([7, 1, 2, 7, 6, 2, 5, 2, 2, 1, 2, 0, 1, 1, 5, 0]), array([1, 9, 8, 8, 4, 2, 4, 3, 7, 6, 2, 6, 1, 7, 4, 9]), array([3, 7, 0, 7, 3, 2, 3, 5, 5, 1, 3, 8, 5, 7, 9, 8]), array([4, 4, 5, 6, 1, 5, 9, 5, 7, 9, 6, 7, 8, 0, 1, 3]), array([0, 9, 9, 1, 7, 0, 6, 6, 2, 6, 9, 8, 1, 1, 4, 2]), array([8, 3, 5, 3, 1, 4, 0, 5, 2, 2, 2, 0, 1, 2, 7, 8]), array([2, 9, 4, 6, 4, 1, 9, 1, 3, 8, 3, 5, 7, 9, 6, 7]), array([1, 2, 3, 6, 3, 0, 3, 9, 7, 1, 8, 6, 5, 9, 9, 4]), array([8, 9, 9, 1, 6, 3, 2, 0, 8, 5, 6, 2, 8, 9, 3, 6]), array([6, 1, 9, 8, 0, 2, 7, 3, 5, 3, 8, 4, 5, 8, 7, 3]), array([5, 1, 4, 9, 1, 5, 5, 5, 3, 8, 8, 1, 3, 5, 1, 8]), array([9, 8, 5, 8, 6, 5, 5, 8, 7, 0, 7, 0, 1, 6, 1, 4]), array([7, 3, 7, 6, 6, 0, 0, 1, 2, 6, 0, 4, 5, 4, 8, 9]), array([7, 0, 1, 4, 0, 5, 0, 7, 9, 7, 3, 9, 3, 7, 3, 1]), array([0, 2, 2, 0, 1, 0, 8, 9, 6, 7, 3, 5, 1, 7, 7, 9]), array([4, 8, 1, 7, 5, 6, 3, 2, 2, 1, 5, 1, 5, 8, 0, 1]), array([1, 9, 8, 6, 5, 7, 5, 8, 2, 9, 3, 9, 8, 4, 3, 6]), array([7, 0, 3, 4, 7, 1, 1, 1, 1, 8, 7, 0, 5, 2, 3, 4]), array([1, 8, 2, 3, 2, 3, 2, 8, 7, 9, 7, 9, 3, 7, 8, 3]), array([4, 7, 3, 8, 6, 8, 7, 4, 0, 8, 1, 2, 7, 4, 0, 1]), array([9, 9, 7, 4, 9, 2, 7, 4, 5, 9, 3, 0, 3, 3, 9, 5]), array([8, 3, 5, 8, 5, 6, 5, 7, 5, 1, 5, 2, 5, 9, 7, 5]), array([7, 4, 2, 5, 2, 2, 0, 8, 5, 3, 4, 8, 4, 5, 0, 8]), array([3, 7, 9, 9, 0, 8, 7, 3, 1, 8, 3, 1, 0, 7, 6, 3]), array([6, 9, 2, 5, 1, 0, 9, 0, 7, 3, 8, 4, 4, 1, 6, 7]), array([6, 4, 0, 6, 8, 0, 7, 3, 6, 1, 5, 1, 5, 9, 5, 5]), array([8, 1, 1, 7, 7, 9, 2, 2, 9, 5, 0, 9, 2, 1, 2, 4]), array([1, 3, 2, 5, 1, 7, 5, 1, 8, 7, 8, 8, 1, 6, 3, 8]), array([8, 9, 6, 9, 1, 0, 2, 8, 0, 1, 2, 5, 6, 6, 0, 6]), array([3, 5, 5, 2, 1, 2, 0, 2, 3, 5, 5, 2, 7, 3, 6, 1]), array([9, 8, 7, 1, 2, 8, 7, 5, 1, 2, 6, 5, 1, 3, 1, 6]), array([1, 0, 6, 2, 3, 7, 1, 8, 0, 9, 2, 5, 8, 6, 8, 8]), array([2, 0, 5, 4, 2, 5, 3, 6, 4, 2, 4, 8, 4, 7, 5, 3]), array([0, 5, 6, 6, 6, 7, 1, 5, 1, 2, 7, 8, 3, 2, 8, 6]), array([0, 2, 8, 1, 1, 7, 2, 9, 3, 1, 0, 0, 6, 5, 4, 1]), array([1, 6, 8, 1, 2, 9, 5, 3, 3, 9, 9, 8, 7, 7, 2, 3]), array([3, 5, 9, 2, 9, 6, 7, 3, 8, 2, 8, 8, 9, 1, 9, 7]), array([5, 9, 3, 6, 3, 2, 7, 2, 0, 1, 1, 7, 3, 2, 9, 9]), array([4, 2, 9, 3, 3, 0, 3, 6, 0, 1, 6, 2, 6, 9, 5, 2]), array([9])]\n"
          ]
        }
      ]
    }
  ],
  "metadata": {
    "colab": {
      "provenance": []
    },
    "kernelspec": {
      "display_name": "Python 3",
      "name": "python3"
    },
    "language_info": {
      "name": "python"
    },
    "gpuClass": "standard"
  },
  "nbformat": 4,
  "nbformat_minor": 0
}